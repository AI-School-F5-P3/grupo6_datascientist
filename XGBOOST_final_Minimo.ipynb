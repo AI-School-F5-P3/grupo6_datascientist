{
  "cells": [
    {
      "cell_type": "markdown",
      "metadata": {
        "id": "RUuqdwU3FQsu"
      },
      "source": [
        "# Optimización de hiperparámetros con Optuna\n",
        "\n"
      ]
    },
    {
      "cell_type": "markdown",
      "metadata": {
        "id": "BtU2YeCOFWQ1"
      },
      "source": [
        "XGBoost"
      ]
    },
    {
      "cell_type": "code",
      "execution_count": 5,
      "metadata": {
        "colab": {
          "base_uri": "https://localhost:8080/",
          "height": 1000
        },
        "collapsed": true,
        "id": "erOhkp05FS5x",
        "outputId": "cc9fcff5-c48d-491c-8ce4-75bf77d585c2"
      },
      "outputs": [],
      "source": [
        "import pandas as pd\n",
        "import numpy as np\n",
        "from sklearn.model_selection import train_test_split\n",
        "from sklearn.preprocessing import StandardScaler\n",
        "from sklearn.metrics import classification_report, confusion_matrix, roc_auc_score\n",
        "from xgboost import XGBClassifier\n",
        "from imblearn.over_sampling import SMOTE\n",
        "\n",
        "\n",
        "from ydata_profiling import ProfileReport\n",
        "from sklearn.preprocessing import LabelEncoder\n",
        "from sklearn.model_selection import train_test_split\n",
        "from sklearn.utils.class_weight import compute_class_weight\n",
        "import numpy as np\n",
        "from sklearn.linear_model import LogisticRegression\n",
        "from sklearn.metrics import accuracy_score\n",
        "import optuna\n",
        "import xgboost as xgb\n",
        "from sklearn.metrics import f1_score\n",
        "from sklearn.ensemble import VotingClassifier\n",
        "from imblearn.over_sampling import SMOTE\n",
        "from imblearn.ensemble import EasyEnsembleClassifier\n",
        "from sklearn.preprocessing import OneHotEncoder\n",
        "import pandas as pd\n",
        "\n",
        "\n",
        "# Cargar los datos\n",
        "df = pd.read_csv('stroke_dataset.csv')\n",
        "\n",
        "# Preparación de los datos\n",
        "df = pd.get_dummies(df, columns=['gender', 'ever_married', 'work_type', 'Residence_type', 'smoking_status'])\n",
        "\n",
        "# Selección de características\n",
        "features = ['age', 'hypertension', 'heart_disease', 'avg_glucose_level', 'bmi'] + \\\n",
        "           [col for col in df.columns if col.startswith(('gender_', 'ever_married_', 'work_type_', 'Residence_type_', 'smoking_status_'))]\n",
        "\n",
        "X = df[features]\n",
        "y = df['stroke']\n",
        "\n",
        "# División de los datos\n",
        "X_train, X_test, y_train, y_test = train_test_split(X, y, test_size=0.2, random_state=42, stratify=y)\n",
        "\n",
        "# Escalado de características\n",
        "scaler = StandardScaler()\n",
        "X_train_scaled = scaler.fit_transform(X_train)\n",
        "X_test_scaled = scaler.transform(X_test)\n",
        "\n"
      ]
    },
    {
      "cell_type": "code",
      "execution_count": 8,
      "metadata": {},
      "outputs": [],
      "source": [
        "df_scaled_train = pd.DataFrame(X_train_scaled, columns=X_train.columns)\n",
        "\n",
        "\n",
        "# Guardar como CSV\n",
        "df_scaled_train.to_csv('df_scaled_train.csv', index=False)\n",
        "\n"
      ]
    },
    {
      "cell_type": "code",
      "execution_count": 11,
      "metadata": {},
      "outputs": [
        {
          "data": {
            "text/plain": [
              "['scalertotal.joblib']"
            ]
          },
          "execution_count": 11,
          "metadata": {},
          "output_type": "execute_result"
        }
      ],
      "source": [
        "from joblib import dump\n",
        "\n",
        "dump(scaler, 'scalertotal.joblib')"
      ]
    },
    {
      "cell_type": "code",
      "execution_count": 5,
      "metadata": {},
      "outputs": [],
      "source": [
        "important_features = [\n",
        "    \"age\",\n",
        "    \"smoking_status_never smoked\",\n",
        "    \"hypertension\",\n",
        "    \"work_type_Private\",\n",
        "    \"Residence_type_Rural\",\n",
        "    \"heart_disease\"\n",
        "]\n",
        "\n",
        "scaler_specific = StandardScaler()\n",
        "scaler_specific.fit(df_train[important_features])\n",
        "\n",
        "# Guardar el scaler específico\n",
        "joblib.dump(scaler_specific, 'scaler_specific.joblib')\n",
        "\n",
        "# Filtrar los conjuntos de datos\n",
        "X_train_important = X_train[important_features]\n",
        "X_test_important = X_test[important_features]"
      ]
    },
    {
      "cell_type": "code",
      "execution_count": 6,
      "metadata": {},
      "outputs": [],
      "source": [
        "\n",
        "from xgboost import XGBClassifier\n",
        "\n",
        "loaded_model = XGBClassifier()\n",
        "loaded_model.load_model(\"xgboost_stroke_model_final.bin\")"
      ]
    },
    {
      "cell_type": "code",
      "execution_count": 7,
      "metadata": {},
      "outputs": [
        {
          "name": "stdout",
          "output_type": "stream",
          "text": [
            "Accuracy del modelo cargado: 0.9137\n",
            "\n",
            "Classification Report del modelo cargado:\n",
            "              precision    recall  f1-score   support\n",
            "\n",
            "           0       0.97      0.94      0.95       947\n",
            "           1       0.26      0.40      0.32        50\n",
            "\n",
            "    accuracy                           0.91       997\n",
            "   macro avg       0.62      0.67      0.64       997\n",
            "weighted avg       0.93      0.91      0.92       997\n",
            "\n"
          ]
        }
      ],
      "source": [
        "# Obtener las probabilidades de las predicciones\n",
        "y_prob_xgb = loaded_model.predict_proba(X_test_important)[:, 1]\n",
        "\n",
        "# Definir un nuevo umbral\n",
        "new_threshold = 0.165  # Ajusta este valor según sea necesario\n",
        "\n",
        "# Clasificar las predicciones basadas en el nuevo umbral\n",
        "y_pred_loaded_model = (y_prob_xgb >= new_threshold).astype(int)\n",
        "\n",
        "# Evaluar el rendimiento del modelo cargado\n",
        "accuracy = accuracy_score(y_test, y_pred_loaded_model)\n",
        "print(f\"Accuracy del modelo cargado: {accuracy:.4f}\")\n",
        "\n",
        "# Imprimir el informe de clasificación\n",
        "print(\"\\nClassification Report del modelo cargado:\")\n",
        "print(classification_report(y_test, y_pred_loaded_model))\n",
        "\n"
      ]
    },
    {
      "cell_type": "code",
      "execution_count": null,
      "metadata": {},
      "outputs": [],
      "source": []
    },
    {
      "cell_type": "code",
      "execution_count": null,
      "metadata": {},
      "outputs": [],
      "source": []
    },
    {
      "cell_type": "code",
      "execution_count": 5,
      "metadata": {},
      "outputs": [
        {
          "name": "stdout",
          "output_type": "stream",
          "text": [
            "1.6.2\n"
          ]
        }
      ],
      "source": [
        "import xgboost as xgb\n",
        "print(xgb.__version__)"
      ]
    }
  ],
  "metadata": {
    "accelerator": "GPU",
    "colab": {
      "gpuType": "T4",
      "provenance": []
    },
    "kernelspec": {
      "display_name": "Python 3",
      "name": "python3"
    },
    "language_info": {
      "codemirror_mode": {
        "name": "ipython",
        "version": 3
      },
      "file_extension": ".py",
      "mimetype": "text/x-python",
      "name": "python",
      "nbconvert_exporter": "python",
      "pygments_lexer": "ipython3",
      "version": "3.12.7"
    }
  },
  "nbformat": 4,
  "nbformat_minor": 0
}
