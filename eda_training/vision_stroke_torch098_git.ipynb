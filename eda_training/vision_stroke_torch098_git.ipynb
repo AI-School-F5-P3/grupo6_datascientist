{
  "cells": [
    {
      "cell_type": "code",
      "execution_count": 3,
      "metadata": {
        "id": "yFheji1HF438"
      },
      "outputs": [],
      "source": [
        "import warnings\n",
        "warnings.filterwarnings('ignore')\n",
        "\n",
        "import os\n",
        "import pandas as pd\n",
        "import numpy as np\n",
        "import matplotlib.pyplot as plt\n",
        "\n",
        "from sklearn.metrics import classification_report , confusion_matrix , accuracy_score, recall_score, f1_score\n",
        "from sklearn.model_selection import train_test_split\n",
        "\n",
        "import cv2\n",
        "\n",
        "from PIL import Image\n",
        "import torch\n",
        "import torch.nn as nn\n",
        "import torch.optim as optim\n",
        "from torch.utils.data import Dataset, DataLoader, TensorDataset\n",
        "import torchvision.transforms as transforms\n"
      ]
    },
    {
      "cell_type": "code",
      "execution_count": 4,
      "metadata": {
        "colab": {
          "base_uri": "https://localhost:8080/"
        },
        "id": "XEdqn3ovH13P",
        "outputId": "57ce15e3-f0f8-424f-a407-374826ca4375"
      },
      "outputs": [
        {
          "name": "stdout",
          "output_type": "stream",
          "text": [
            "Images in Normal Data: 1551\n",
            "Images in Stroke Data: 950\n"
          ]
        }
      ],
      "source": [
        "\n",
        "# Definición de paths para cargar los datos\n",
        "normal_path = \"./Brain_Data_Organised/Normal\"\n",
        "stroke_path = \"./Brain_Data_Organised/Stroke\"\n",
        "\n",
        "normal_folder = os.listdir(normal_path)\n",
        "stroke_folder = os.listdir(stroke_path)\n",
        "print(\"Images in Normal Data:\", len(normal_folder))\n",
        "print(\"Images in Stroke Data:\", len(stroke_folder))\n",
        "\n",
        "data = []\n",
        "labels = []\n",
        "\n",
        "# Carga imágenes normales\n",
        "for img_file in normal_folder:\n",
        "    image = Image.open(os.path.join(normal_path, img_file)).convert('RGB')\n",
        "    image = image.resize((224, 224))\n",
        "    image = np.array(image)\n",
        "    data.append(image)\n",
        "    labels.append(0)  # Etiqueta Normal\n",
        "\n",
        "# Carga imágenes de Ictus\n",
        "for img_file in stroke_folder:\n",
        "    image = Image.open(os.path.join(stroke_path, img_file)).convert('RGB')\n",
        "    image = image.resize((224, 224))\n",
        "    image = np.array(image)\n",
        "    data.append(image)\n",
        "    labels.append(1)  # Etiqueta Stroke\n",
        "\n",
        "x = np.array(data)\n",
        "y = np.array(labels)"
      ]
    },
    {
      "cell_type": "code",
      "execution_count": 5,
      "metadata": {
        "colab": {
          "base_uri": "https://localhost:8080/"
        },
        "id": "RCdUXfRKI-kB",
        "outputId": "80ea4aea-38e5-4c19-dd2b-e75c69c0a5db"
      },
      "outputs": [
        {
          "name": "stdout",
          "output_type": "stream",
          "text": [
            "(2250, 224, 224, 3)\n",
            "(251, 224, 224, 3)\n",
            "(2250,)\n",
            "(251,)\n"
          ]
        }
      ],
      "source": [
        "# Partimos en train y test\n",
        "x_train, x_test, y_train, y_test = train_test_split(x, y, test_size=0.10, shuffle=True, random_state=42)\n",
        "print(x_train.shape)\n",
        "print(x_test.shape)\n",
        "print(y_train.shape)\n",
        "print(y_test.shape)\n",
        "\n",
        "# Conversión a torch tensors\n",
        "x_train = torch.tensor(x_train, dtype=torch.float32).permute(0, 3, 1, 2)\n",
        "x_test = torch.tensor(x_test, dtype=torch.float32).permute(0, 3, 1, 2)\n",
        "y_train = torch.tensor(y_train, dtype=torch.float32)\n",
        "y_test = torch.tensor(y_test, dtype=torch.float32)\n",
        "\n",
        "# Creamos Dataset\n",
        "train_dataset = TensorDataset(x_train, y_train)\n",
        "test_dataset = TensorDataset(x_test, y_test)\n",
        "\n",
        "#  train_dataset dividido en  training y validation datasets\n",
        "train_size = int(0.8 * len(train_dataset))\n",
        "val_size = len(train_dataset) - train_size\n",
        "train_dataset, val_dataset = torch.utils.data.random_split(train_dataset, [train_size, val_size])\n",
        "\n",
        "# DataLoaders\n",
        "train_loader = DataLoader(train_dataset, batch_size=32, shuffle=True)\n",
        "val_loader = DataLoader(val_dataset, batch_size=32, shuffle=False)\n",
        "test_loader = DataLoader(test_dataset, batch_size=32, shuffle=False)"
      ]
    },
    {
      "cell_type": "code",
      "execution_count": 6,
      "metadata": {
        "id": "j0y_9InwhPNm"
      },
      "outputs": [],
      "source": [
        "class ImprovedCNNModel(nn.Module):\n",
        "    def __init__(self):\n",
        "        super(ImprovedCNNModel, self).__init__()\n",
        "        self.conv1 = nn.Conv2d(in_channels=3, out_channels=32, kernel_size=3, padding=1)\n",
        "        self.bn1 = nn.BatchNorm2d(32)\n",
        "        self.conv2 = nn.Conv2d(in_channels=32, out_channels=64, kernel_size=3, padding=1)\n",
        "        self.bn2 = nn.BatchNorm2d(64)\n",
        "        self.conv3 = nn.Conv2d(in_channels=64, out_channels=128, kernel_size=3, padding=1)\n",
        "        self.bn3 = nn.BatchNorm2d(128)\n",
        "\n",
        "        self.pool = nn.MaxPool2d(kernel_size=2)\n",
        "        self.dropout = nn.Dropout(0.1)  # Reducimos dropout\n",
        "\n",
        "        # tamaño después de convolutions y pooling\n",
        "        self.fc1 = nn.Linear(128 * 28 * 28, 512)\n",
        "        self.fc2 = nn.Linear(512, 1)\n",
        "\n",
        "    def forward(self, x):\n",
        "        x = self.pool(nn.functional.relu(self.bn1(self.conv1(x))))\n",
        "        x = self.pool(nn.functional.relu(self.bn2(self.conv2(x))))\n",
        "        x = self.pool(nn.functional.relu(self.bn3(self.conv3(x))))\n",
        "\n",
        "        x = x.view(x.size(0), -1)\n",
        "        x = self.dropout(nn.functional.relu(self.fc1(x)))\n",
        "        x = torch.sigmoid(self.fc2(x))\n",
        "        return x\n",
        "\n",
        "# Inicializamos \n",
        "model = ImprovedCNNModel()\n",
        "device = torch.device('cuda' if torch.cuda.is_available() else 'cpu')\n",
        "model.to(device)\n",
        "\n",
        "# Reducimos learning rate y weight decay\n",
        "optimizer = optim.Adam(model.parameters(), lr=0.0001, weight_decay=1e-5)\n",
        "criterion = nn.BCELoss()\n",
        "\n",
        "# Learning rate scheduler\n",
        "scheduler = optim.lr_scheduler.ReduceLROnPlateau(optimizer, mode='min', factor=0.1, patience=3, verbose=True)\n"
      ]
    },
    {
      "cell_type": "code",
      "execution_count": 7,
      "metadata": {
        "colab": {
          "base_uri": "https://localhost:8080/"
        },
        "id": "Sqb_JLFChRfV",
        "outputId": "fa20dbb3-8968-4da3-de90-bd4b0b2e3262"
      },
      "outputs": [
        {
          "name": "stdout",
          "output_type": "stream",
          "text": [
            "Epoch [1/30], Loss: 0.9404, Acc: 66.06%, Val Loss: 0.4512, Val Acc: 76.67%\n",
            "Epoch [2/30], Loss: 0.2937, Acc: 86.39%, Val Loss: 0.2195, Val Acc: 89.33%\n",
            "Epoch [3/30], Loss: 0.1618, Acc: 94.22%, Val Loss: 0.2565, Val Acc: 88.00%\n",
            "Epoch [4/30], Loss: 0.1014, Acc: 96.50%, Val Loss: 0.1047, Val Acc: 95.11%\n",
            "Epoch [5/30], Loss: 0.0809, Acc: 96.78%, Val Loss: 0.1159, Val Acc: 95.11%\n",
            "Epoch [6/30], Loss: 0.0319, Acc: 99.11%, Val Loss: 0.0786, Val Acc: 96.22%\n",
            "Epoch [7/30], Loss: 0.0433, Acc: 98.72%, Val Loss: 0.5091, Val Acc: 84.89%\n",
            "Epoch [8/30], Loss: 0.0153, Acc: 99.44%, Val Loss: 0.0631, Val Acc: 97.11%\n",
            "Epoch [9/30], Loss: 0.0065, Acc: 99.78%, Val Loss: 0.0660, Val Acc: 97.78%\n",
            "Epoch [10/30], Loss: 0.0028, Acc: 99.94%, Val Loss: 0.0668, Val Acc: 97.11%\n",
            "Epoch [11/30], Loss: 0.0012, Acc: 100.00%, Val Loss: 0.0606, Val Acc: 96.89%\n",
            "Epoch [12/30], Loss: 0.0029, Acc: 100.00%, Val Loss: 0.0570, Val Acc: 97.56%\n",
            "Epoch [13/30], Loss: 0.0025, Acc: 100.00%, Val Loss: 0.1594, Val Acc: 94.22%\n",
            "Epoch [14/30], Loss: 0.0025, Acc: 100.00%, Val Loss: 0.0593, Val Acc: 98.00%\n",
            "Epoch [15/30], Loss: 0.0003, Acc: 100.00%, Val Loss: 0.0736, Val Acc: 97.11%\n",
            "Epoch [16/30], Loss: 0.0002, Acc: 100.00%, Val Loss: 0.0748, Val Acc: 96.89%\n",
            "Early stopping triggered at epoch 17\n"
          ]
        }
      ],
      "source": [
        "# Training con  early stopping\n",
        "def train_model(model, train_loader, val_loader, num_epochs=30):\n",
        "    best_val_loss = float('inf')\n",
        "    patience = 5\n",
        "    patience_counter = 0\n",
        "\n",
        "    for epoch in range(num_epochs):\n",
        "        # Training \n",
        "        model.train()\n",
        "        running_loss = 0.0\n",
        "        correct = 0\n",
        "        total = 0\n",
        "\n",
        "        for inputs, labels in train_loader:\n",
        "            inputs = inputs.to(device)\n",
        "            labels = labels.to(device).unsqueeze(1)\n",
        "\n",
        "            optimizer.zero_grad()\n",
        "            outputs = model(inputs)\n",
        "            loss = criterion(outputs, labels)\n",
        "            loss.backward()\n",
        "\n",
        "            # Gradient clipping\n",
        "            torch.nn.utils.clip_grad_norm_(model.parameters(), max_norm=1.0)\n",
        "\n",
        "            optimizer.step()\n",
        "\n",
        "            running_loss += loss.item()\n",
        "            predicted = (outputs.data > 0.5).float()\n",
        "            total += labels.size(0)\n",
        "            correct += (predicted == labels).sum().item()\n",
        "\n",
        "        epoch_loss = running_loss / len(train_loader)\n",
        "        epoch_acc = 100 * correct / total\n",
        "\n",
        "        # Validación\n",
        "        model.eval()\n",
        "        val_loss = 0.0\n",
        "        val_correct = 0\n",
        "        val_total = 0\n",
        "\n",
        "        with torch.no_grad():\n",
        "            for inputs, labels in val_loader:\n",
        "                inputs = inputs.to(device)\n",
        "                labels = labels.to(device).unsqueeze(1)\n",
        "                outputs = model(inputs)\n",
        "                loss = criterion(outputs, labels)\n",
        "                val_loss += loss.item()\n",
        "                predicted = (outputs.data > 0.5).float()\n",
        "                val_total += labels.size(0)\n",
        "                val_correct += (predicted == labels).sum().item()\n",
        "\n",
        "        val_loss = val_loss / len(val_loader)\n",
        "        val_acc = 100 * val_correct / val_total\n",
        "\n",
        "        # Learning rate scheduling\n",
        "        scheduler.step(val_loss)\n",
        "\n",
        "        # Comprobamos Early stopping\n",
        "        if val_loss < best_val_loss:\n",
        "            best_val_loss = val_loss\n",
        "            patience_counter = 0\n",
        "            # Salvamos el mejor modelo\n",
        "            torch.save(model.state_dict(), 'best_model.pth')\n",
        "        else:\n",
        "            patience_counter += 1\n",
        "            if patience_counter >= patience:\n",
        "                print(f'Early stopping triggered at epoch {epoch+1}')\n",
        "                break\n",
        "\n",
        "        print(f'Epoch [{epoch+1}/{num_epochs}], '\n",
        "              f'Loss: {epoch_loss:.4f}, Acc: {epoch_acc:.2f}%, '\n",
        "              f'Val Loss: {val_loss:.4f}, Val Acc: {val_acc:.2f}%')\n",
        "\n",
        "\n",
        "train_model(model, train_loader, val_loader)"
      ]
    },
    {
      "cell_type": "code",
      "execution_count": 8,
      "metadata": {
        "colab": {
          "base_uri": "https://localhost:8080/",
          "height": 867
        },
        "id": "L8x3zDl_KAob",
        "outputId": "10dcaf23-dae2-4f9d-c10c-6071ff1f9961"
      },
      "outputs": [
        {
          "data": {
            "image/png": "[encoded data removed]",
            "text/plain": [
              "<Figure size 800x600 with 2 Axes>"
            ]
          },
          "metadata": {},
          "output_type": "display_data"
        },
        {
          "name": "stdout",
          "output_type": "stream",
          "text": [
            "\n",
            "Classification Report:\n",
            "              precision    recall  f1-score   support\n",
            "\n",
            "      Normal       0.97      0.98      0.97       149\n",
            "      Stroke       0.97      0.95      0.96       102\n",
            "\n",
            "    accuracy                           0.97       251\n",
            "   macro avg       0.97      0.97      0.97       251\n",
            "weighted avg       0.97      0.97      0.97       251\n",
            "\n",
            "\n",
            "Accuracy: 0.9681\n",
            "Recall: 0.9510\n",
            "F1 Score: 0.9604\n"
          ]
        }
      ],
      "source": [
        "# Evaluamos en el dataset de testing, no se ha tocado.\n",
        "def evaluate_model(model, test_loader, device):\n",
        "    model.eval()\n",
        "    all_predictions = []\n",
        "    all_labels = []\n",
        "\n",
        "    with torch.no_grad():\n",
        "        for inputs, labels in test_loader:\n",
        "            inputs = inputs.to(device)\n",
        "            outputs = model(inputs)\n",
        "            predicted = (outputs.data > 0.5).float().cpu()\n",
        "            all_predictions.extend(predicted.numpy().flatten())\n",
        "            all_labels.extend(labels.numpy().flatten())\n",
        "\n",
        "    #  confusion matrix\n",
        "    cm = confusion_matrix(all_labels, all_predictions)\n",
        "\n",
        "    # Métricas \n",
        "    accuracy = accuracy_score(all_labels, all_predictions)\n",
        "    recall = recall_score(all_labels, all_predictions)\n",
        "    f1 = f1_score(all_labels, all_predictions)\n",
        "\n",
        "    # Mostrar la matriz de confusión \n",
        "    plt.figure(figsize=(8, 6))\n",
        "    plt.imshow(cm, interpolation='nearest', cmap=plt.cm.Blues)\n",
        "    plt.title('Confusion Matrix')\n",
        "    plt.colorbar()\n",
        "\n",
        "    classes = ['Normal', 'Stroke']\n",
        "    tick_marks = np.arange(len(classes))\n",
        "    plt.xticks(tick_marks, classes)\n",
        "    plt.yticks(tick_marks, classes)\n",
        "\n",
        "    \n",
        "    thresh = cm.max() / 2.\n",
        "    for i, j in np.ndindex(cm.shape):\n",
        "        plt.text(j, i, format(cm[i, j], 'd'),\n",
        "                horizontalalignment=\"center\",\n",
        "                color=\"white\" if cm[i, j] > thresh else \"black\")\n",
        "\n",
        "    plt.ylabel('True Label')\n",
        "    plt.xlabel('Predicted Label')\n",
        "    plt.tight_layout()\n",
        "    plt.show()\n",
        "\n",
        "    print(\"\\nClassification Report:\")\n",
        "    print(classification_report(all_labels, all_predictions, target_names=classes))\n",
        "    print(f\"\\nAccuracy: {accuracy:.4f}\")\n",
        "    print(f\"Recall: {recall:.4f}\")\n",
        "    print(f\"F1 Score: {f1:.4f}\")\n",
        "\n",
        "\n",
        "evaluate_model(model, test_loader, device)"
      ]
    },
    {
      "cell_type": "code",
      "execution_count": 9,
      "metadata": {
        "id": "VHiLh5rfKYtS"
      },
      "outputs": [],
      "source": [
        "# Guardamos el modelo\n",
        "torch.save(model.state_dict(), 'vision_stroke_98.pth')"
      ]
    }
  ],
  "metadata": {
    "accelerator": "GPU",
    "colab": {
      "gpuType": "T4",
      "provenance": []
    },
    "kernelspec": {
      "display_name": "Python 3",
      "name": "python3"
    },
    "language_info": {
      "name": "python"
    }
  },
  "nbformat": 4,
  "nbformat_minor": 0
}
