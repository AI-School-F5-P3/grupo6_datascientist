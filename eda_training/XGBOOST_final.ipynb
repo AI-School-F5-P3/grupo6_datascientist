{
  "cells": [
    {
      "cell_type": "markdown",
      "metadata": {
        "id": "RUuqdwU3FQsu"
      },
      "source": [
        "# Optimización de hiperparámetros con Optuna\n",
        "\n"
      ]
    },
    {
      "cell_type": "markdown",
      "metadata": {
        "id": "BtU2YeCOFWQ1"
      },
      "source": [
        "XGBoost"
      ]
    },
    {
      "cell_type": "code",
      "execution_count": 2,
      "metadata": {
        "colab": {
          "base_uri": "https://localhost:8080/",
          "height": 1000
        },
        "collapsed": true,
        "id": "erOhkp05FS5x",
        "outputId": "cc9fcff5-c48d-491c-8ce4-75bf77d585c2"
      },
      "outputs": [],
      "source": [
        "import pandas as pd\n",
        "import numpy as np\n",
        "from sklearn.model_selection import train_test_split\n",
        "from sklearn.preprocessing import StandardScaler\n",
        "from sklearn.metrics import classification_report, confusion_matrix, roc_auc_score\n",
        "from xgboost import XGBClassifier\n",
        "from imblearn.over_sampling import SMOTE\n",
        "from ydata_profiling import ProfileReport\n",
        "from sklearn.preprocessing import LabelEncoder\n",
        "from sklearn.model_selection import train_test_split\n",
        "from sklearn.utils.class_weight import compute_class_weight\n",
        "import numpy as np\n",
        "from sklearn.linear_model import LogisticRegression\n",
        "from sklearn.metrics import accuracy_score\n",
        "import optuna\n",
        "import xgboost as xgb\n",
        "from sklearn.metrics import f1_score\n",
        "from sklearn.ensemble import VotingClassifier\n",
        "from imblearn.over_sampling import SMOTE\n",
        "from imblearn.ensemble import EasyEnsembleClassifier\n",
        "from sklearn.preprocessing import OneHotEncoder\n",
        "import pandas as pd\n",
        "\n",
        "\n",
        "# Cargar los datos\n",
        "df = pd.read_csv('stroke_dataset.csv')\n",
        "\n",
        "# Preparación de los datos\n",
        "df = pd.get_dummies(df, columns=['gender', 'ever_married', 'work_type', 'Residence_type', 'smoking_status'])\n",
        "\n",
        "# Selección de características\n",
        "features = ['age', 'hypertension', 'heart_disease', 'avg_glucose_level', 'bmi'] + \\\n",
        "           [col for col in df.columns if col.startswith(('gender_', 'ever_married_', 'work_type_', 'Residence_type_', 'smoking_status_'))]\n",
        "\n",
        "X = df[features]\n",
        "y = df['stroke']\n",
        "\n",
        "# División de los datos\n",
        "X_train, X_test, y_train, y_test = train_test_split(X, y, test_size=0.2, random_state=42, stratify=y)\n",
        "\n",
        "# Escalado de características\n",
        "scaler = StandardScaler()\n",
        "X_train_scaled = scaler.fit_transform(X_train)\n",
        "X_test_scaled = scaler.transform(X_test)"
      ]
    },
    {
      "cell_type": "code",
      "execution_count": null,
      "metadata": {},
      "outputs": [],
      "source": [
        "# Aplicar SMOTE para manejar el desbalanceo de clases\n",
        "smote = SMOTE(random_state=42)\n",
        "X_train_resampled, y_train_resampled = smote.fit_resample(X_train_scaled, y_train)\n",
        "\n",
        "# Crear el modelo XGBoost con los hiperparámetros proporcionados\n",
        "best_params_xgb = {\n",
        "    'lambda': 0.0020347988977949456,\n",
        "    'alpha': 6.065116885395498e-07,\n",
        "    'colsample_bytree': 1.0,\n",
        "    'subsample': 1.0,\n",
        "    'learning_rate': 0.07368598010119852,\n",
        "    'n_estimators': 273,\n",
        "    'max_depth': 3,\n",
        "    'min_child_weight': 10\n",
        "}\n",
        "\n",
        "model = XGBClassifier(**best_params_xgb, random_state=42)\n",
        "\n",
        "# Entrenar el modelo\n",
        "model.fit(X_train_resampled, y_train_resampled)\n",
        "\n",
        "# Realizar predicciones\n",
        "y_pred = model.predict(X_test_scaled)\n",
        "y_pred_proba = model.predict_proba(X_test_scaled)[:, 1]\n",
        "\n",
        "# Evaluar el modelo\n",
        "print(\"Informe de clasificación:\")\n",
        "print(classification_report(y_test, y_pred))\n",
        "print(\"\\nMatriz de confusión:\")\n",
        "print(confusion_matrix(y_test, y_pred))\n",
        "print(f\"\\nROC AUC: {roc_auc_score(y_test, y_pred_proba):.3f}\")\n"
      ]
    },
    {
      "cell_type": "markdown",
      "metadata": {
        "id": "1H2lyUNgG-DP"
      },
      "source": [
        "#Entrenamiento del modelo"
      ]
    },
    {
      "cell_type": "code",
      "execution_count": 4,
      "metadata": {
        "id": "9aD3WlZ5HBXo"
      },
      "outputs": [],
      "source": [
        "# Entrenar el modelo XGBoost con los mejores hiperparámetros\n",
        "xgb_model_optimized = xgb.XGBClassifier(**best_params_xgb)\n",
        "xgb_model_optimized.fit(X_train, y_train)\n",
        "\n",
        "# Predecir en el conjunto de prueba\n",
        "y_pred_xgb_optimized = xgb_model_optimized.predict(X_test)\n",
        "\n",
        "# Evaluar el rendimiento del modelo optimizado\n",
        "from sklearn.metrics import classification_report"
      ]
    },
    {
      "cell_type": "code",
      "execution_count": 6,
      "metadata": {
        "colab": {
          "base_uri": "https://localhost:8080/"
        },
        "id": "a5_FgkOMSfNq",
        "outputId": "771c1a68-bf34-4619-a8d2-928cc360cc6d"
      },
      "outputs": [
        {
          "name": "stdout",
          "output_type": "stream",
          "text": [
            "Importancia de las características:\n",
            "                           Feature  Importance\n",
            "0                              age    0.263381\n",
            "17     smoking_status_never smoked    0.087813\n",
            "1                     hypertension    0.085492\n",
            "10               work_type_Private    0.074240\n",
            "13            Residence_type_Rural    0.073076\n",
            "2                    heart_disease    0.069222\n",
            "5                    gender_Female    0.051476\n",
            "11         work_type_Self-employed    0.049839\n",
            "7                  ever_married_No    0.048735\n",
            "18           smoking_status_smokes    0.046902\n",
            "3                avg_glucose_level    0.044981\n",
            "9               work_type_Govt_job    0.038285\n",
            "4                              bmi    0.035474\n",
            "16  smoking_status_formerly smoked    0.031084\n",
            "6                      gender_Male    0.000000\n",
            "8                 ever_married_Yes    0.000000\n",
            "12              work_type_children    0.000000\n",
            "14            Residence_type_Urban    0.000000\n",
            "15          smoking_status_Unknown    0.000000\n"
          ]
        }
      ],
      "source": [
        "# Extraer importancias\n",
        "importances = xgb_model_optimized.feature_importances_\n",
        "\n",
        "# Crear un DataFrame para visualizar las importancias\n",
        "feature_importances = pd.DataFrame({\n",
        "    'Feature': X_train.columns,\n",
        "    'Importance': importances\n",
        "})\n",
        "\n",
        "# Ordenar las características por importancia\n",
        "feature_importances = feature_importances.sort_values(by='Importance', ascending=False)\n",
        "print(\"Importancia de las características:\")\n",
        "print(feature_importances)"
      ]
    },
    {
      "cell_type": "code",
      "execution_count": 8,
      "metadata": {
        "colab": {
          "base_uri": "https://localhost:8080/"
        },
        "id": "-SJUKa22eYWx",
        "outputId": "3bd0f206-c5a3-4a9d-ed90-af4829b1245c"
      },
      "outputs": [
        {
          "name": "stdout",
          "output_type": "stream",
          "text": [
            "\n",
            "XGBoost Classification Report with Adjusted Threshold:\n",
            "              precision    recall  f1-score   support\n",
            "\n",
            "           0       0.97      0.94      0.95       947\n",
            "           1       0.26      0.40      0.32        50\n",
            "\n",
            "    accuracy                           0.91       997\n",
            "   macro avg       0.62      0.67      0.64       997\n",
            "weighted avg       0.93      0.91      0.92       997\n",
            "\n",
            "Accuracy en el conjunto de entrenamiento: 0.95\n",
            "Accuracy en el conjunto de prueba: 0.91\n",
            "Porcentaje de overfitting: 3.85%\n"
          ]
        }
      ],
      "source": [
        "# Seleccionar las 5 características más importantes\n",
        "top_n = 6  # Cambia este valor según lo que desees\n",
        "important_features = feature_importances.head(top_n)['Feature'].tolist()\n",
        "\n",
        "# Filtrar los conjuntos de datos\n",
        "X_train_important = X_train[important_features]\n",
        "X_test_important = X_test[important_features]\n",
        "\n",
        "import numpy as np\n",
        "from sklearn.metrics import classification_report\n",
        "\n",
        "# Entrenar el modelo XGBoost\n",
        "xgb_model_optimized_1 = xgb.XGBClassifier(**best_params_xgb)\n",
        "xgb_model_optimized_1.fit(X_train_important, y_train)\n",
        "\n",
        "# Obtener las probabilidades de las predicciones\n",
        "y_prob_xgb_optimized = xgb_model_optimized_1.predict_proba(X_test_important)[:, 1]\n",
        "\n",
        "# Definir un nuevo umbral\n",
        "new_threshold = 0.165  # Ajusta este valor según sea necesario\n",
        "\n",
        "# Clasificar las predicciones basadas en el nuevo umbral\n",
        "y_pred_xgb_adjusted = (y_prob_xgb_optimized >= new_threshold).astype(int)\n",
        "\n",
        "# Evaluar el rendimiento del modelo con el nuevo umbral\n",
        "print(\"\\nXGBoost Classification Report with Adjusted Threshold:\")\n",
        "print(classification_report(y_test, y_pred_xgb_adjusted))\n",
        "\n",
        "from sklearn.metrics import accuracy_score\n",
        "\n",
        "# Predecir en el conjunto de entrenamiento\n",
        "y_pred_train = xgb_model_optimized_1.predict(X_train_important)\n",
        "\n",
        "# Calcular la precisión en el conjunto de entrenamiento\n",
        "accuracy_train = accuracy_score(y_train, y_pred_train)\n",
        "\n",
        "# Calcular la precisión en el conjunto de prueba con el nuevo umbral\n",
        "accuracy_test = accuracy_score(y_test, y_pred_xgb_adjusted)\n",
        "\n",
        "# Calcular el porcentaje de overfitting\n",
        "overfitting_percentage = (accuracy_train - accuracy_test) / accuracy_train * 100\n",
        "\n",
        "# Imprimir los resultados\n",
        "print(f\"Accuracy en el conjunto de entrenamiento: {accuracy_train:.2f}\")\n",
        "print(f\"Accuracy en el conjunto de prueba: {accuracy_test:.2f}\")\n",
        "print(f\"Porcentaje de overfitting: {overfitting_percentage:.2f}%\")"
      ]
    },
    {
      "cell_type": "code",
      "execution_count": 10,
      "metadata": {},
      "outputs": [
        {
          "name": "stdout",
          "output_type": "stream",
          "text": [
            "Modelo guardado como 'xgboost_stroke_model_1.bin'\n"
          ]
        },
        {
          "name": "stderr",
          "output_type": "stream",
          "text": [
            "C:\\Users\\Administrator\\AppData\\Local\\Packages\\PythonSoftwareFoundation.Python.3.12_qbz5n2kfra8p0\\LocalCache\\local-packages\\Python312\\site-packages\\xgboost\\core.py:158: UserWarning: [14:16:15] WARNING: C:\\buildkite-agent\\builds\\buildkite-windows-cpu-autoscaling-group-i-0015a694724fa8361-1\\xgboost\\xgboost-ci-windows\\src\\c_api\\c_api.cc:1374: Saving model in the UBJSON format as default.  You can use file extension: `json`, `ubj` or `deprecated` to choose between formats.\n",
            "  warnings.warn(smsg, UserWarning)\n"
          ]
        }
      ],
      "source": [
        "xgb_model_optimized_1.save_model(\"xgboost_stroke_model_1.bin\")\n",
        "\n",
        "print(\"Modelo guardado como 'xgboost_stroke_model_1.bin'\")"
      ]
    },
    {
      "cell_type": "code",
      "execution_count": 6,
      "metadata": {},
      "outputs": [
        {
          "data": {
            "text/plain": [
              "['xgb_model_optimized_jose.joblib']"
            ]
          },
          "execution_count": 6,
          "metadata": {},
          "output_type": "execute_result"
        }
      ],
      "source": [
        "import joblib\n",
        "\n",
        "# Assume `model` is your trained XGBoost model\n",
        "joblib.dump(xgb_model_optimized, 'xgb_model_optimized_jose.joblib')"
      ]
    }
  ],
  "metadata": {
    "accelerator": "GPU",
    "colab": {
      "gpuType": "T4",
      "provenance": []
    },
    "kernelspec": {
      "display_name": "Python 3",
      "name": "python3"
    },
    "language_info": {
      "codemirror_mode": {
        "name": "ipython",
        "version": 3
      },
      "file_extension": ".py",
      "mimetype": "text/x-python",
      "name": "python",
      "nbconvert_exporter": "python",
      "pygments_lexer": "ipython3",
      "version": "3.12.7"
    }
  },
  "nbformat": 4,
  "nbformat_minor": 0
}
