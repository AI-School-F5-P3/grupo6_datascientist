{
  "cells": [
    {
      "cell_type": "markdown",
      "metadata": {
        "id": "RUuqdwU3FQsu"
      },
      "source": [
        "# Optimización de hiperparámetros con Optuna\n",
        "\n"
      ]
    },
    {
      "cell_type": "markdown",
      "metadata": {
        "id": "BtU2YeCOFWQ1"
      },
      "source": [
        "XGBoost"
      ]
    },
    {
      "cell_type": "code",
      "execution_count": 46,
      "metadata": {
        "colab": {
          "base_uri": "https://localhost:8080/",
          "height": 1000
        },
        "collapsed": true,
        "id": "erOhkp05FS5x",
        "outputId": "cc9fcff5-c48d-491c-8ce4-75bf77d585c2"
      },
      "outputs": [],
      "source": [
        "import pandas as pd\n",
        "import numpy as np\n",
        "from sklearn.model_selection import train_test_split\n",
        "from sklearn.preprocessing import StandardScaler\n",
        "from sklearn.metrics import classification_report, confusion_matrix, roc_auc_score\n",
        "from xgboost import XGBClassifier\n",
        "from imblearn.over_sampling import SMOTE\n",
        "\n",
        "\n",
        "from ydata_profiling import ProfileReport\n",
        "from sklearn.preprocessing import LabelEncoder\n",
        "from sklearn.model_selection import train_test_split\n",
        "from sklearn.utils.class_weight import compute_class_weight\n",
        "import numpy as np\n",
        "from sklearn.linear_model import LogisticRegression\n",
        "from sklearn.metrics import accuracy_score\n",
        "import optuna\n",
        "import xgboost as xgb\n",
        "from sklearn.metrics import f1_score\n",
        "from sklearn.ensemble import VotingClassifier\n",
        "from imblearn.over_sampling import SMOTE\n",
        "from imblearn.ensemble import EasyEnsembleClassifier\n",
        "from sklearn.preprocessing import OneHotEncoder\n",
        "import pandas as pd\n",
        "import joblib\n",
        "\n"
      ]
    },
    {
      "cell_type": "code",
      "execution_count": 64,
      "metadata": {},
      "outputs": [],
      "source": [
        "from xgboost import XGBClassifier\n",
        "\n",
        "loaded_model = XGBClassifier()\n",
        "loaded_model.load_model(\"xgboost_stroke_model_final.bin\")\n",
        "\n",
        "scaler = joblib.load('scaler_model.joblib')"
      ]
    },
    {
      "cell_type": "code",
      "execution_count": 66,
      "metadata": {},
      "outputs": [],
      "source": [
        "# Cargar los datos\n",
        "df = pd.read_csv('Data/stroke_dataset.csv')\n",
        "\n",
        "# Preparación de los datos\n",
        "df = pd.get_dummies(df, columns=['gender', 'ever_married', 'work_type', 'Residence_type', 'smoking_status'])\n",
        "\n",
        "# Selección de características\n",
        "features = ['age', 'hypertension', 'heart_disease', 'avg_glucose_level', 'bmi'] + \\\n",
        "           [col for col in df.columns if col.startswith(('gender_', 'ever_married_', 'work_type_', 'Residence_type_', 'smoking_status_'))]\n",
        "\n",
        "X = df[features]\n",
        "y = df['stroke']\n",
        "\n",
        "# División de los datos\n",
        "X_train, X_test, y_train, y_test = train_test_split(X, y, test_size=0.2, random_state=42, stratify=y)\n",
        "\n",
        "# Escalado de características\n",
        "\n",
        "X_train_scaled = scaler.transform(X_train)\n",
        "X_test_scaled = scaler.transform(X_test)"
      ]
    },
    {
      "cell_type": "code",
      "execution_count": 67,
      "metadata": {},
      "outputs": [],
      "source": [
        "important_features = [\n",
        "    \"age\",\n",
        "    \"smoking_status_never smoked\",\n",
        "    \"hypertension\",\n",
        "    \"work_type_Private\",\n",
        "    \"Residence_type_Rural\",\n",
        "    \"heart_disease\"\n",
        "]\n",
        "\n",
        "# Filtrar los conjuntos de datos\n",
        "X_train_important = X_train[important_features]\n",
        "X_test_important = X_test[important_features]"
      ]
    },
    {
      "cell_type": "code",
      "execution_count": 68,
      "metadata": {},
      "outputs": [
        {
          "data": {
            "text/html": [
              "<div>\n",
              "<style scoped>\n",
              "    .dataframe tbody tr th:only-of-type {\n",
              "        vertical-align: middle;\n",
              "    }\n",
              "\n",
              "    .dataframe tbody tr th {\n",
              "        vertical-align: top;\n",
              "    }\n",
              "\n",
              "    .dataframe thead th {\n",
              "        text-align: right;\n",
              "    }\n",
              "</style>\n",
              "<table border=\"1\" class=\"dataframe\">\n",
              "  <thead>\n",
              "    <tr style=\"text-align: right;\">\n",
              "      <th></th>\n",
              "      <th>age</th>\n",
              "      <th>smoking_status_never smoked</th>\n",
              "      <th>hypertension</th>\n",
              "      <th>work_type_Private</th>\n",
              "      <th>Residence_type_Rural</th>\n",
              "      <th>heart_disease</th>\n",
              "    </tr>\n",
              "  </thead>\n",
              "  <tbody>\n",
              "    <tr>\n",
              "      <th>4428</th>\n",
              "      <td>24.0</td>\n",
              "      <td>False</td>\n",
              "      <td>0</td>\n",
              "      <td>True</td>\n",
              "      <td>True</td>\n",
              "      <td>0</td>\n",
              "    </tr>\n",
              "    <tr>\n",
              "      <th>1135</th>\n",
              "      <td>3.0</td>\n",
              "      <td>False</td>\n",
              "      <td>0</td>\n",
              "      <td>False</td>\n",
              "      <td>True</td>\n",
              "      <td>0</td>\n",
              "    </tr>\n",
              "    <tr>\n",
              "      <th>2417</th>\n",
              "      <td>69.0</td>\n",
              "      <td>False</td>\n",
              "      <td>0</td>\n",
              "      <td>True</td>\n",
              "      <td>False</td>\n",
              "      <td>0</td>\n",
              "    </tr>\n",
              "    <tr>\n",
              "      <th>1173</th>\n",
              "      <td>46.0</td>\n",
              "      <td>True</td>\n",
              "      <td>0</td>\n",
              "      <td>True</td>\n",
              "      <td>False</td>\n",
              "      <td>0</td>\n",
              "    </tr>\n",
              "    <tr>\n",
              "      <th>3696</th>\n",
              "      <td>52.0</td>\n",
              "      <td>True</td>\n",
              "      <td>1</td>\n",
              "      <td>True</td>\n",
              "      <td>True</td>\n",
              "      <td>0</td>\n",
              "    </tr>\n",
              "    <tr>\n",
              "      <th>...</th>\n",
              "      <td>...</td>\n",
              "      <td>...</td>\n",
              "      <td>...</td>\n",
              "      <td>...</td>\n",
              "      <td>...</td>\n",
              "      <td>...</td>\n",
              "    </tr>\n",
              "    <tr>\n",
              "      <th>4049</th>\n",
              "      <td>29.0</td>\n",
              "      <td>True</td>\n",
              "      <td>0</td>\n",
              "      <td>True</td>\n",
              "      <td>False</td>\n",
              "      <td>0</td>\n",
              "    </tr>\n",
              "    <tr>\n",
              "      <th>1053</th>\n",
              "      <td>56.0</td>\n",
              "      <td>False</td>\n",
              "      <td>0</td>\n",
              "      <td>True</td>\n",
              "      <td>False</td>\n",
              "      <td>0</td>\n",
              "    </tr>\n",
              "    <tr>\n",
              "      <th>3526</th>\n",
              "      <td>53.0</td>\n",
              "      <td>False</td>\n",
              "      <td>0</td>\n",
              "      <td>True</td>\n",
              "      <td>True</td>\n",
              "      <td>0</td>\n",
              "    </tr>\n",
              "    <tr>\n",
              "      <th>3051</th>\n",
              "      <td>44.0</td>\n",
              "      <td>True</td>\n",
              "      <td>0</td>\n",
              "      <td>True</td>\n",
              "      <td>True</td>\n",
              "      <td>0</td>\n",
              "    </tr>\n",
              "    <tr>\n",
              "      <th>2029</th>\n",
              "      <td>45.0</td>\n",
              "      <td>False</td>\n",
              "      <td>1</td>\n",
              "      <td>False</td>\n",
              "      <td>False</td>\n",
              "      <td>0</td>\n",
              "    </tr>\n",
              "  </tbody>\n",
              "</table>\n",
              "<p>3984 rows × 6 columns</p>\n",
              "</div>"
            ],
            "text/plain": [
              "       age  smoking_status_never smoked  hypertension  work_type_Private  \\\n",
              "4428  24.0                        False             0               True   \n",
              "1135   3.0                        False             0              False   \n",
              "2417  69.0                        False             0               True   \n",
              "1173  46.0                         True             0               True   \n",
              "3696  52.0                         True             1               True   \n",
              "...    ...                          ...           ...                ...   \n",
              "4049  29.0                         True             0               True   \n",
              "1053  56.0                        False             0               True   \n",
              "3526  53.0                        False             0               True   \n",
              "3051  44.0                         True             0               True   \n",
              "2029  45.0                        False             1              False   \n",
              "\n",
              "      Residence_type_Rural  heart_disease  \n",
              "4428                  True              0  \n",
              "1135                  True              0  \n",
              "2417                 False              0  \n",
              "1173                 False              0  \n",
              "3696                  True              0  \n",
              "...                    ...            ...  \n",
              "4049                 False              0  \n",
              "1053                 False              0  \n",
              "3526                  True              0  \n",
              "3051                  True              0  \n",
              "2029                 False              0  \n",
              "\n",
              "[3984 rows x 6 columns]"
            ]
          },
          "execution_count": 68,
          "metadata": {},
          "output_type": "execute_result"
        }
      ],
      "source": [
        "X_train_important"
      ]
    },
    {
      "cell_type": "code",
      "execution_count": 69,
      "metadata": {},
      "outputs": [
        {
          "name": "stdout",
          "output_type": "stream",
          "text": [
            "Accuracy del modelo cargado: 0.9137\n",
            "\n",
            "Classification Report del modelo cargado:\n",
            "              precision    recall  f1-score   support\n",
            "\n",
            "           0       0.97      0.94      0.95       947\n",
            "           1       0.26      0.40      0.32        50\n",
            "\n",
            "    accuracy                           0.91       997\n",
            "   macro avg       0.62      0.67      0.64       997\n",
            "weighted avg       0.93      0.91      0.92       997\n",
            "\n"
          ]
        }
      ],
      "source": [
        "# Obtener las probabilidades de las predicciones\n",
        "y_prob_xgb = loaded_model.predict_proba(X_test_important)[:, 1]\n",
        "\n",
        "# Definir un nuevo umbral\n",
        "new_threshold = 0.165  # Ajusta este valor según sea necesario\n",
        "\n",
        "# Clasificar las predicciones basadas en el nuevo umbral\n",
        "y_pred_loaded_model = (y_prob_xgb >= new_threshold).astype(int)\n",
        "\n",
        "# Evaluar el rendimiento del modelo cargado\n",
        "accuracy = accuracy_score(y_test, y_pred_loaded_model)\n",
        "print(f\"Accuracy del modelo cargado: {accuracy:.4f}\")\n",
        "\n",
        "# Imprimir el informe de clasificación\n",
        "print(\"\\nClassification Report del modelo cargado:\")\n",
        "print(classification_report(y_test, y_pred_loaded_model))\n",
        "\n"
      ]
    },
    {
      "cell_type": "code",
      "execution_count": null,
      "metadata": {},
      "outputs": [],
      "source": []
    },
    {
      "cell_type": "markdown",
      "metadata": {},
      "source": [
        "# Lo importante"
      ]
    },
    {
      "cell_type": "code",
      "execution_count": null,
      "metadata": {},
      "outputs": [],
      "source": []
    },
    {
      "cell_type": "code",
      "execution_count": 61,
      "metadata": {},
      "outputs": [],
      "source": [
        "def transform_input_data(input_data):\n",
        "    # Create a dictionary with all columns initialized to 0\n",
        "    data = {col: 0 for col in ['age', 'hypertension', 'heart_disease', 'avg_glucose_level', 'bmi', \n",
        "                               'gender_Female', 'gender_Male', \n",
        "                               'ever_married_No', 'ever_married_Yes', \n",
        "                               'work_type_Govt_job', 'work_type_Private', 'work_type_Self-employed', 'work_type_children', \n",
        "                               'Residence_type_Rural', 'Residence_type_Urban', \n",
        "                               'smoking_status_Unknown', 'smoking_status_formerly smoked', \n",
        "                               'smoking_status_never smoked', 'smoking_status_smokes']}\n",
        "    \n",
        "    # Fill in the non-categorical values\n",
        "    data['age'] = input_data['age']\n",
        "    data['hypertension'] = input_data['hypertension']\n",
        "    data['heart_disease'] = input_data['heart_disease']\n",
        "    data['avg_glucose_level'] = input_data['avg_glucose_level']\n",
        "    data['bmi'] = input_data['bmi']\n",
        "    \n",
        "    # Set the appropriate categorical columns to 1\n",
        "    data[f\"gender_{input_data['gender']}\"] = 1\n",
        "    data[f\"ever_married_{input_data['ever_married']}\"] = 1\n",
        "    data[f\"work_type_{input_data['work_type']}\"] = 1\n",
        "    data[f\"Residence_type_{input_data['Residence_type']}\"] = 1\n",
        "    data[f\"smoking_status_{input_data['smoking_status']}\"] = 1\n",
        "    \n",
        "    # Create a DataFrame\n",
        "    df = pd.DataFrame([data])\n",
        "    \n",
        "    return df\n"
      ]
    },
    {
      "cell_type": "code",
      "execution_count": 81,
      "metadata": {},
      "outputs": [],
      "source": [
        "# Example input data\n",
        "sample_input_data = {\n",
        "    'gender': 'Male',\n",
        "    'age': 44.0,\n",
        "    'hypertension': 0,\n",
        "    'heart_disease': 0,\n",
        "    'ever_married': 'Yes',\n",
        "    'work_type': 'Private',\n",
        "    'Residence_type': 'Urban',\n",
        "    'avg_glucose_level': 105.5,\n",
        "    'bmi': 60.6,\n",
        "    'smoking_status': 'never smoked'\n",
        "}\n",
        "\n",
        "# Transform the data\n",
        "transformed_df = transform_input_data(sample_input_data)\n"
      ]
    },
    {
      "cell_type": "code",
      "execution_count": 82,
      "metadata": {},
      "outputs": [
        {
          "name": "stdout",
          "output_type": "stream",
          "text": [
            "\n",
            "Predicted class (0: No stroke, 1: Stroke):\n",
            "[0]\n",
            "Probability of stroke:\n",
            "[0.00941098]\n",
            "\n",
            "The model predicts a low risk of stroke.\n",
            "\n",
            "Predicted probability: 0.0094\n",
            "Threshold used: 0.165\n"
          ]
        }
      ],
      "source": [
        "important_columns = ['age', 'smoking_status_never smoked', 'hypertension', \n",
        "                     'work_type_Private', 'Residence_type_Rural', 'heart_disease']\n",
        "\n",
        "selected_df = transformed_df[important_columns]\n",
        "\n",
        "\n",
        "X_input = selected_df\n",
        "\n",
        "# Make probability predictions\n",
        "y_prob_xgb_optimized = loaded_model.predict_proba(X_input)[:, 1]\n",
        "\n",
        "# Define the new threshold\n",
        "new_threshold = 0.165  # Adjust this value as needed\n",
        "\n",
        "# Classify predictions based on the new threshold\n",
        "y_pred_xgb_adjusted = (y_prob_xgb_optimized >= new_threshold).astype(int)\n",
        "\n",
        "print(\"\\nPredicted class (0: No stroke, 1: Stroke):\")\n",
        "print(y_pred_xgb_adjusted)\n",
        "\n",
        "\n",
        "# Print results\n",
        "print(\"Probability of stroke:\")\n",
        "print(y_prob_xgb_optimized)\n",
        "\n",
        "\n",
        "# Optional: Interpret the result\n",
        "if y_pred_xgb_adjusted[0] == 1:\n",
        "    print(\"\\nThe model predicts a high risk of stroke.\")\n",
        "else:\n",
        "    print(\"\\nThe model predicts a low risk of stroke.\")\n",
        "\n",
        "print(f\"\\nPredicted probability: {y_prob_xgb_optimized[0]:.4f}\")\n",
        "print(f\"Threshold used: {new_threshold}\")"
      ]
    },
    {
      "cell_type": "code",
      "execution_count": null,
      "metadata": {},
      "outputs": [],
      "source": []
    },
    {
      "cell_type": "code",
      "execution_count": null,
      "metadata": {},
      "outputs": [],
      "source": []
    },
    {
      "cell_type": "code",
      "execution_count": null,
      "metadata": {},
      "outputs": [],
      "source": []
    },
    {
      "cell_type": "code",
      "execution_count": 5,
      "metadata": {},
      "outputs": [
        {
          "name": "stdout",
          "output_type": "stream",
          "text": [
            "1.6.2\n"
          ]
        }
      ],
      "source": [
        "import xgboost as xgb\n",
        "print(xgb.__version__)"
      ]
    }
  ],
  "metadata": {
    "accelerator": "GPU",
    "colab": {
      "gpuType": "T4",
      "provenance": []
    },
    "kernelspec": {
      "display_name": "Python 3",
      "name": "python3"
    },
    "language_info": {
      "codemirror_mode": {
        "name": "ipython",
        "version": 3
      },
      "file_extension": ".py",
      "mimetype": "text/x-python",
      "name": "python",
      "nbconvert_exporter": "python",
      "pygments_lexer": "ipython3",
      "version": "3.11.9"
    }
  },
  "nbformat": 4,
  "nbformat_minor": 0
}
