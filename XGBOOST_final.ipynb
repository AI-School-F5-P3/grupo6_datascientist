{
  "cells": [
    {
      "cell_type": "code",
      "execution_count": 1,
      "metadata": {
        "colab": {
          "base_uri": "https://localhost:8080/"
        },
        "id": "y_I7ZORfOIrM",
        "outputId": "eb40d642-9083-4f92-e329-08c227f42a01"
      },
      "outputs": [
        {
          "name": "stdout",
          "output_type": "stream",
          "text": [
            "Requirement already satisfied: imbalanced-learn in /Library/Frameworks/Python.framework/Versions/3.12/lib/python3.12/site-packages (0.12.4)\n",
            "Requirement already satisfied: numpy>=1.17.3 in /Library/Frameworks/Python.framework/Versions/3.12/lib/python3.12/site-packages (from imbalanced-learn) (1.26.4)\n",
            "Requirement already satisfied: scipy>=1.5.0 in /Library/Frameworks/Python.framework/Versions/3.12/lib/python3.12/site-packages (from imbalanced-learn) (1.13.1)\n",
            "Requirement already satisfied: scikit-learn>=1.0.2 in /Library/Frameworks/Python.framework/Versions/3.12/lib/python3.12/site-packages (from imbalanced-learn) (1.5.2)\n",
            "Requirement already satisfied: joblib>=1.1.1 in /Library/Frameworks/Python.framework/Versions/3.12/lib/python3.12/site-packages (from imbalanced-learn) (1.4.2)\n",
            "Requirement already satisfied: threadpoolctl>=2.0.0 in /Library/Frameworks/Python.framework/Versions/3.12/lib/python3.12/site-packages (from imbalanced-learn) (3.5.0)\n",
            "Note: you may need to restart the kernel to use updated packages.\n"
          ]
        }
      ],
      "source": [
        "pip install imbalanced-learn"
      ]
    },
    {
      "cell_type": "code",
      "execution_count": 2,
      "metadata": {
        "colab": {
          "base_uri": "https://localhost:8080/"
        },
        "id": "8p33gD8VIry0",
        "outputId": "6bc22217-b0d5-411b-d2e5-def50a750fb3"
      },
      "outputs": [
        {
          "name": "stdout",
          "output_type": "stream",
          "text": [
            "Requirement already satisfied: ydata_profiling in /Library/Frameworks/Python.framework/Versions/3.12/lib/python3.12/site-packages (4.10.0)\n",
            "Requirement already satisfied: scipy<1.14,>=1.4.1 in /Library/Frameworks/Python.framework/Versions/3.12/lib/python3.12/site-packages (from ydata_profiling) (1.13.1)\n",
            "Requirement already satisfied: pandas!=1.4.0,<3,>1.1 in /Library/Frameworks/Python.framework/Versions/3.12/lib/python3.12/site-packages (from ydata_profiling) (2.2.2)\n",
            "Requirement already satisfied: matplotlib<3.10,>=3.5 in /Library/Frameworks/Python.framework/Versions/3.12/lib/python3.12/site-packages (from ydata_profiling) (3.9.2)\n",
            "Requirement already satisfied: pydantic>=2 in /Library/Frameworks/Python.framework/Versions/3.12/lib/python3.12/site-packages (from ydata_profiling) (2.8.2)\n",
            "Requirement already satisfied: PyYAML<6.1,>=5.0.0 in /Library/Frameworks/Python.framework/Versions/3.12/lib/python3.12/site-packages (from ydata_profiling) (6.0.1)\n",
            "Requirement already satisfied: jinja2<3.2,>=2.11.1 in /Library/Frameworks/Python.framework/Versions/3.12/lib/python3.12/site-packages (from ydata_profiling) (3.1.4)\n",
            "Requirement already satisfied: visions<0.7.7,>=0.7.5 in /Library/Frameworks/Python.framework/Versions/3.12/lib/python3.12/site-packages (from visions[type_image_path]<0.7.7,>=0.7.5->ydata_profiling) (0.7.6)\n",
            "Requirement already satisfied: numpy<2.2,>=1.16.0 in /Library/Frameworks/Python.framework/Versions/3.12/lib/python3.12/site-packages (from ydata_profiling) (1.26.4)\n",
            "Requirement already satisfied: htmlmin==0.1.12 in /Library/Frameworks/Python.framework/Versions/3.12/lib/python3.12/site-packages (from ydata_profiling) (0.1.12)\n",
            "Requirement already satisfied: phik<0.13,>=0.11.1 in /Library/Frameworks/Python.framework/Versions/3.12/lib/python3.12/site-packages (from ydata_profiling) (0.12.4)\n",
            "Requirement already satisfied: requests<3,>=2.24.0 in /Library/Frameworks/Python.framework/Versions/3.12/lib/python3.12/site-packages (from ydata_profiling) (2.32.3)\n",
            "Requirement already satisfied: tqdm<5,>=4.48.2 in /Library/Frameworks/Python.framework/Versions/3.12/lib/python3.12/site-packages (from ydata_profiling) (4.66.5)\n",
            "Requirement already satisfied: seaborn<0.14,>=0.10.1 in /Library/Frameworks/Python.framework/Versions/3.12/lib/python3.12/site-packages (from ydata_profiling) (0.13.2)\n",
            "Requirement already satisfied: multimethod<2,>=1.4 in /Library/Frameworks/Python.framework/Versions/3.12/lib/python3.12/site-packages (from ydata_profiling) (1.12)\n",
            "Requirement already satisfied: statsmodels<1,>=0.13.2 in /Library/Frameworks/Python.framework/Versions/3.12/lib/python3.12/site-packages (from ydata_profiling) (0.14.4)\n",
            "Requirement already satisfied: typeguard<5,>=3 in /Library/Frameworks/Python.framework/Versions/3.12/lib/python3.12/site-packages (from ydata_profiling) (4.3.0)\n",
            "Requirement already satisfied: imagehash==4.3.1 in /Library/Frameworks/Python.framework/Versions/3.12/lib/python3.12/site-packages (from ydata_profiling) (4.3.1)\n",
            "Requirement already satisfied: wordcloud>=1.9.3 in /Library/Frameworks/Python.framework/Versions/3.12/lib/python3.12/site-packages (from ydata_profiling) (1.9.3)\n",
            "Requirement already satisfied: dacite>=1.8 in /Library/Frameworks/Python.framework/Versions/3.12/lib/python3.12/site-packages (from ydata_profiling) (1.8.1)\n",
            "Requirement already satisfied: numba<1,>=0.56.0 in /Library/Frameworks/Python.framework/Versions/3.12/lib/python3.12/site-packages (from ydata_profiling) (0.60.0)\n",
            "Requirement already satisfied: PyWavelets in /Library/Frameworks/Python.framework/Versions/3.12/lib/python3.12/site-packages (from imagehash==4.3.1->ydata_profiling) (1.7.0)\n",
            "Requirement already satisfied: pillow in /Library/Frameworks/Python.framework/Versions/3.12/lib/python3.12/site-packages (from imagehash==4.3.1->ydata_profiling) (10.3.0)\n",
            "Requirement already satisfied: MarkupSafe>=2.0 in /Library/Frameworks/Python.framework/Versions/3.12/lib/python3.12/site-packages (from jinja2<3.2,>=2.11.1->ydata_profiling) (2.1.5)\n",
            "Requirement already satisfied: contourpy>=1.0.1 in /Library/Frameworks/Python.framework/Versions/3.12/lib/python3.12/site-packages (from matplotlib<3.10,>=3.5->ydata_profiling) (1.3.0)\n",
            "Requirement already satisfied: cycler>=0.10 in /Library/Frameworks/Python.framework/Versions/3.12/lib/python3.12/site-packages (from matplotlib<3.10,>=3.5->ydata_profiling) (0.12.1)\n",
            "Requirement already satisfied: fonttools>=4.22.0 in /Library/Frameworks/Python.framework/Versions/3.12/lib/python3.12/site-packages (from matplotlib<3.10,>=3.5->ydata_profiling) (4.53.1)\n",
            "Requirement already satisfied: kiwisolver>=1.3.1 in /Library/Frameworks/Python.framework/Versions/3.12/lib/python3.12/site-packages (from matplotlib<3.10,>=3.5->ydata_profiling) (1.4.7)\n",
            "Requirement already satisfied: packaging>=20.0 in /Library/Frameworks/Python.framework/Versions/3.12/lib/python3.12/site-packages (from matplotlib<3.10,>=3.5->ydata_profiling) (24.1)\n",
            "Requirement already satisfied: pyparsing>=2.3.1 in /Library/Frameworks/Python.framework/Versions/3.12/lib/python3.12/site-packages (from matplotlib<3.10,>=3.5->ydata_profiling) (3.1.4)\n",
            "Requirement already satisfied: python-dateutil>=2.7 in /Library/Frameworks/Python.framework/Versions/3.12/lib/python3.12/site-packages (from matplotlib<3.10,>=3.5->ydata_profiling) (2.9.0.post0)\n",
            "Requirement already satisfied: llvmlite<0.44,>=0.43.0dev0 in /Library/Frameworks/Python.framework/Versions/3.12/lib/python3.12/site-packages (from numba<1,>=0.56.0->ydata_profiling) (0.43.0)\n",
            "Requirement already satisfied: pytz>=2020.1 in /Library/Frameworks/Python.framework/Versions/3.12/lib/python3.12/site-packages (from pandas!=1.4.0,<3,>1.1->ydata_profiling) (2024.1)\n",
            "Requirement already satisfied: tzdata>=2022.7 in /Library/Frameworks/Python.framework/Versions/3.12/lib/python3.12/site-packages (from pandas!=1.4.0,<3,>1.1->ydata_profiling) (2024.1)\n",
            "Requirement already satisfied: joblib>=0.14.1 in /Library/Frameworks/Python.framework/Versions/3.12/lib/python3.12/site-packages (from phik<0.13,>=0.11.1->ydata_profiling) (1.4.2)\n",
            "Requirement already satisfied: annotated-types>=0.4.0 in /Library/Frameworks/Python.framework/Versions/3.12/lib/python3.12/site-packages (from pydantic>=2->ydata_profiling) (0.7.0)\n",
            "Requirement already satisfied: pydantic-core==2.20.1 in /Library/Frameworks/Python.framework/Versions/3.12/lib/python3.12/site-packages (from pydantic>=2->ydata_profiling) (2.20.1)\n",
            "Requirement already satisfied: typing-extensions>=4.6.1 in /Library/Frameworks/Python.framework/Versions/3.12/lib/python3.12/site-packages (from pydantic>=2->ydata_profiling) (4.12.2)\n",
            "Requirement already satisfied: charset-normalizer<4,>=2 in /Library/Frameworks/Python.framework/Versions/3.12/lib/python3.12/site-packages (from requests<3,>=2.24.0->ydata_profiling) (3.3.2)\n",
            "Requirement already satisfied: idna<4,>=2.5 in /Library/Frameworks/Python.framework/Versions/3.12/lib/python3.12/site-packages (from requests<3,>=2.24.0->ydata_profiling) (3.7)\n",
            "Requirement already satisfied: urllib3<3,>=1.21.1 in /Library/Frameworks/Python.framework/Versions/3.12/lib/python3.12/site-packages (from requests<3,>=2.24.0->ydata_profiling) (2.2.2)\n",
            "Requirement already satisfied: certifi>=2017.4.17 in /Library/Frameworks/Python.framework/Versions/3.12/lib/python3.12/site-packages (from requests<3,>=2.24.0->ydata_profiling) (2024.6.2)\n",
            "Requirement already satisfied: patsy>=0.5.6 in /Library/Frameworks/Python.framework/Versions/3.12/lib/python3.12/site-packages (from statsmodels<1,>=0.13.2->ydata_profiling) (0.5.6)\n",
            "Requirement already satisfied: attrs>=19.3.0 in /Library/Frameworks/Python.framework/Versions/3.12/lib/python3.12/site-packages (from visions<0.7.7,>=0.7.5->visions[type_image_path]<0.7.7,>=0.7.5->ydata_profiling) (23.2.0)\n",
            "Requirement already satisfied: networkx>=2.4 in /Library/Frameworks/Python.framework/Versions/3.12/lib/python3.12/site-packages (from visions<0.7.7,>=0.7.5->visions[type_image_path]<0.7.7,>=0.7.5->ydata_profiling) (3.4.1)\n",
            "Requirement already satisfied: six in /Library/Frameworks/Python.framework/Versions/3.12/lib/python3.12/site-packages (from patsy>=0.5.6->statsmodels<1,>=0.13.2->ydata_profiling) (1.16.0)\n"
          ]
        }
      ],
      "source": [
        "!pip install ydata_profiling"
      ]
    },
    {
      "cell_type": "code",
      "execution_count": 3,
      "metadata": {
        "id": "Ti4UloQOQFOi"
      },
      "outputs": [
        {
          "ename": "",
          "evalue": "",
          "output_type": "error",
          "traceback": [
            "\u001b[1;31mThe Kernel crashed while executing code in the current cell or a previous cell. \n",
            "\u001b[1;31mPlease review the code in the cell(s) to identify a possible cause of the failure. \n",
            "\u001b[1;31mClick <a href='https://aka.ms/vscodeJupyterKernelCrash'>here</a> for more info. \n",
            "\u001b[1;31mView Jupyter <a href='command:jupyter.viewOutput'>log</a> for further details."
          ]
        }
      ],
      "source": [
        "from ydata_profiling import ProfileReport\n",
        "from sklearn.preprocessing import LabelEncoder\n",
        "from sklearn.model_selection import train_test_split\n",
        "from sklearn.utils.class_weight import compute_class_weight\n",
        "import numpy as np\n",
        "from sklearn.linear_model import LogisticRegression\n",
        "from sklearn.metrics import accuracy_score\n",
        "import optuna\n",
        "import xgboost as xgb\n",
        "from sklearn.metrics import f1_score\n",
        "from sklearn.ensemble import VotingClassifier\n",
        "from imblearn.over_sampling import SMOTE\n",
        "from imblearn.ensemble import EasyEnsembleClassifier\n",
        "from sklearn.preprocessing import OneHotEncoder\n",
        "import pandas as pd"
      ]
    },
    {
      "cell_type": "code",
      "execution_count": 9,
      "metadata": {
        "colab": {
          "base_uri": "https://localhost:8080/"
        },
        "id": "JtvDzeGWEk1S",
        "outputId": "1dd0c032-ccd1-4bb0-9295-10fceaabf463"
      },
      "outputs": [
        {
          "name": "stdout",
          "output_type": "stream",
          "text": [
            "   gender   age  hypertension  heart_disease  ever_married  avg_glucose_level  \\\n",
            "0       1  67.0             0              1             1             228.69   \n",
            "1       1  80.0             0              1             1             105.92   \n",
            "2       0  49.0             0              0             1             171.23   \n",
            "3       0  79.0             1              0             1             174.12   \n",
            "4       1  81.0             0              0             1             186.21   \n",
            "\n",
            "    bmi   smoking_status  stroke  work_type_Private  ...  \\\n",
            "0  36.6  formerly smoked       1               True  ...   \n",
            "1  32.5     never smoked       1               True  ...   \n",
            "2  34.4           smokes       1               True  ...   \n",
            "3  24.0     never smoked       1              False  ...   \n",
            "4  29.0  formerly smoked       1               True  ...   \n",
            "\n",
            "   Residence_type_Urban  age_group  hypertension_heart_disease comorbidities  \\\n",
            "0                  True        65+                           0             1   \n",
            "1                 False        65+                           0             1   \n",
            "2                  True      36-50                           0             0   \n",
            "3                 False        65+                           0             1   \n",
            "4                  True        65+                           0             0   \n",
            "\n",
            "   bmi_category  obese smoker_status  high_risk_lifestyle  high_glucose  \\\n",
            "0         obese      1             1                    1             1   \n",
            "1         obese      1             0                    1             0   \n",
            "2         obese      1             1                    1             1   \n",
            "3        normal      0             0                    1             1   \n",
            "4    overweight      0             1                    1             1   \n",
            "\n",
            "   elderly_comorbid  \n",
            "0                 1  \n",
            "1                 1  \n",
            "2                 0  \n",
            "3                 1  \n",
            "4                 0  \n",
            "\n",
            "[5 rows x 22 columns]\n"
          ]
        }
      ],
      "source": [
        "# Cargar el dataset\n",
        "df = pd.read_csv('stroke_dataset.csv')\n",
        "\n",
        "# Encoding variables binarias\n",
        "label_encoder = LabelEncoder()\n",
        "df['ever_married'] = label_encoder.fit_transform(df['ever_married'])\n",
        "df['gender'] = label_encoder.fit_transform(df['gender'])\n",
        "\n",
        "# Crear dummies para variables categóricas\n",
        "df = pd.get_dummies(df, columns=['work_type', 'Residence_type'], drop_first=True)\n",
        "\n",
        "# Crear nuevas columnas\n",
        "# 1. Grupos de edad\n",
        "def age_group(age):\n",
        "    if age <= 18:\n",
        "        return '0-18'\n",
        "    elif 19 <= age <= 35:\n",
        "        return '19-35'\n",
        "    elif 36 <= age <= 50:\n",
        "        return '36-50'\n",
        "    elif 51 <= age <= 65:\n",
        "        return '51-65'\n",
        "    else:\n",
        "        return '65+'\n",
        "\n",
        "df['age_group'] = df['age'].apply(age_group)\n",
        "\n",
        "# 3. Combinación de hipertensión y enfermedades cardíacas\n",
        "df['hypertension_heart_disease'] = ((df['hypertension'] == 1) & (df['heart_disease'] == 1)).astype(int)\n",
        "\n",
        "# 4. Comorbilidades\n",
        "df['comorbidities'] = df['hypertension'] + df['heart_disease']\n",
        "\n",
        "# 5. Categorías de IMC\n",
        "def bmi_category(bmi):\n",
        "    if bmi < 18.5:\n",
        "        return 'underweight'\n",
        "    elif 18.5 <= bmi < 25:\n",
        "        return 'normal'\n",
        "    elif 25 <= bmi < 30:\n",
        "        return 'overweight'\n",
        "    else:\n",
        "        return 'obese'\n",
        "\n",
        "df['bmi_category'] = df['bmi'].apply(bmi_category)\n",
        "\n",
        "# 6. Obesidad\n",
        "df['obese'] = df['bmi'].apply(lambda x: 1 if x >= 30 else 0)\n",
        "\n",
        "# 7. Fumador actual o pasado\n",
        "df['smoker_status'] = df['smoking_status'].apply(lambda x: 1 if x in ['formerly smoked', 'smokes'] else 0)\n",
        "\n",
        "# 8. Riesgo elevado\n",
        "df['high_risk_lifestyle'] = ((df['smoker_status'] == 1) | (df['hypertension'] == 1) | (df['heart_disease'] == 1)).astype(int)\n",
        "\n",
        "# 9. Glucosa elevada\n",
        "df['high_glucose'] = df['avg_glucose_level'].apply(lambda x: 1 if x > 140 else 0)\n",
        "\n",
        "# 10. Combinación de edad avanzada y comorbilidades\n",
        "df['elderly_comorbid'] = ((df['age'] > 65) & (df['comorbidities'] > 0)).astype(int)\n",
        "\n",
        "\n",
        "\n",
        "\n",
        "# Mostrar las primeras filas del DataFrame actualizado\n",
        "print(df.head())\n"
      ]
    },
    {
      "cell_type": "code",
      "execution_count": 10,
      "metadata": {
        "id": "3-KmEDEMAKqq"
      },
      "outputs": [],
      "source": [
        "# Assuming X is your original DataFrame with features\n",
        "# ... (your code to load and prepare X) ...\n",
        "\n",
        "y = df['stroke']\n",
        "X = df.drop('stroke', axis=1)\n",
        "\n",
        "# 1. Identify categorical columns:\n",
        "categorical_cols = X.select_dtypes(include=['object']).columns\n",
        "\n",
        "# 2. Create OneHotEncoder:\n",
        "encoder = OneHotEncoder(sparse_output=False, handle_unknown='ignore') # sparse=False for compatibility with SMOTE\n",
        "\n",
        "# 3. Fit and transform on categorical columns:\n",
        "encoded_data = encoder.fit_transform(X[categorical_cols])\n",
        "\n",
        "# 4. Create a new DataFrame with encoded features:\n",
        "encoded_df = pd.DataFrame(encoded_data, columns=encoder.get_feature_names_out(categorical_cols))\n",
        "\n",
        "# 5. Concatenate encoded features with numerical features:\n",
        "X_encoded = pd.concat([X.drop(categorical_cols, axis=1), encoded_df], axis=1)\n",
        "\n",
        "#Now use this new X_encoded for train_test_split\n",
        "X_train, X_test, y_train, y_test = train_test_split(X_encoded, y, test_size=0.2, random_state=42)\n",
        "\n",
        "# Calcular los pesos\n",
        "class_weights = compute_class_weight('balanced', classes=np.unique(y_train), y=y_train)\n",
        "class_weights_dict = {0: class_weights[0], 1: class_weights[1]}"
      ]
    },
    {
      "cell_type": "markdown",
      "metadata": {
        "id": "RUuqdwU3FQsu"
      },
      "source": [
        "# Optimización de hiperparámetros con Optuna\n",
        "\n"
      ]
    },
    {
      "cell_type": "markdown",
      "metadata": {
        "id": "BtU2YeCOFWQ1"
      },
      "source": [
        "XGBoost"
      ]
    },
    {
      "cell_type": "code",
      "execution_count": 1,
      "metadata": {
        "colab": {
          "base_uri": "https://localhost:8080/",
          "height": 1000
        },
        "collapsed": true,
        "id": "erOhkp05FS5x",
        "outputId": "cc9fcff5-c48d-491c-8ce4-75bf77d585c2"
      },
      "outputs": [
        {
          "ename": "",
          "evalue": "",
          "output_type": "error",
          "traceback": [
            "\u001b[1;31mThe Kernel crashed while executing code in the current cell or a previous cell. \n",
            "\u001b[1;31mPlease review the code in the cell(s) to identify a possible cause of the failure. \n",
            "\u001b[1;31mClick <a href='https://aka.ms/vscodeJupyterKernelCrash'>here</a> for more info. \n",
            "\u001b[1;31mView Jupyter <a href='command:jupyter.viewOutput'>log</a> for further details."
          ]
        }
      ],
      "source": [
        "import pandas as pd\n",
        "import numpy as np\n",
        "from sklearn.model_selection import train_test_split\n",
        "from sklearn.preprocessing import StandardScaler\n",
        "from sklearn.metrics import classification_report, confusion_matrix, roc_auc_score\n",
        "from xgboost import XGBClassifier\n",
        "from imblearn.over_sampling import SMOTE\n",
        "\n",
        "# Cargar los datos\n",
        "df = pd.read_csv('stroke_dataset.csv')\n",
        "\n",
        "# Preparación de los datos\n",
        "df = pd.get_dummies(df, columns=['gender', 'ever_married', 'work_type', 'Residence_type', 'smoking_status'])\n",
        "\n",
        "# Selección de características\n",
        "features = ['age', 'hypertension', 'heart_disease', 'avg_glucose_level', 'bmi'] + \\\n",
        "           [col for col in df.columns if col.startswith(('gender_', 'ever_married_', 'work_type_', 'Residence_type_', 'smoking_status_'))]\n",
        "\n",
        "X = df[features]\n",
        "y = df['stroke']\n",
        "\n",
        "# División de los datos\n",
        "X_train, X_test, y_train, y_test = train_test_split(X, y, test_size=0.2, random_state=42, stratify=y)\n",
        "\n",
        "# Escalado de características\n",
        "scaler = StandardScaler()\n",
        "X_train_scaled = scaler.fit_transform(X_train)\n",
        "X_test_scaled = scaler.transform(X_test)\n",
        "\n",
        "# Aplicar SMOTE para manejar el desbalanceo de clases\n",
        "smote = SMOTE(random_state=42)\n",
        "X_train_resampled, y_train_resampled = smote.fit_resample(X_train_scaled, y_train)\n",
        "\n",
        "# Crear el modelo XGBoost con los hiperparámetros proporcionados\n",
        "best_params_xgb = {\n",
        "    'lambda': 0.0020347988977949456,\n",
        "    'alpha': 6.065116885395498e-07,\n",
        "    'colsample_bytree': 1.0,\n",
        "    'subsample': 1.0,\n",
        "    'learning_rate': 0.07368598010119852,\n",
        "    'n_estimators': 273,\n",
        "    'max_depth': 3,\n",
        "    'min_child_weight': 10\n",
        "}\n",
        "\n",
        "model = XGBClassifier(**best_params_xgb, random_state=42)\n",
        "\n",
        "# Entrenar el modelo\n",
        "model.fit(X_train_resampled, y_train_resampled)\n",
        "\n",
        "# Realizar predicciones\n",
        "y_pred = model.predict(X_test_scaled)\n",
        "y_pred_proba = model.predict_proba(X_test_scaled)[:, 1]\n",
        "\n",
        "# Evaluar el modelo\n",
        "print(\"Informe de clasificación:\")\n",
        "print(classification_report(y_test, y_pred))\n",
        "print(\"\\nMatriz de confusión:\")\n",
        "print(confusion_matrix(y_test, y_pred))\n",
        "print(f\"\\nROC AUC: {roc_auc_score(y_test, y_pred_proba):.3f}\")\n",
        "\n",
        "# Importancia de las características\n",
        "feature_importance = model.feature_importances_\n",
        "feature_importance_dict = dict(zip(features, feature_importance))\n",
        "sorted_features = sorted(feature_importance_dict.items(), key=lambda x: x[1], reverse=True)\n",
        "\n",
        "print(\"\\nImportancia de las características:\")\n",
        "for feature, importance in sorted_features:\n",
        "    print(f\"{feature}: {importance:.4f}\")\n",
        "\n",
        "# Visualización de la importancia de las características\n",
        "import matplotlib.pyplot as plt\n",
        "\n",
        "plt.figure(figsize=(12, 8))\n",
        "plt.bar(range(len(feature_importance)), [imp for _, imp in sorted_features])\n",
        "plt.xticks(range(len(feature_importance)), [feat for feat, _ in sorted_features], rotation=90)\n",
        "plt.xlabel('Características')\n",
        "plt.ylabel('Importancia')\n",
        "plt.title('Importancia de las características en el modelo XGBoost')\n",
        "plt.tight_layout()\n",
        "plt.show()"
      ]
    },
    {
      "cell_type": "markdown",
      "metadata": {
        "id": "xS-jCT6LG3yt"
      },
      "source": [
        "Regresión lineal"
      ]
    },
    {
      "cell_type": "markdown",
      "metadata": {
        "id": "1H2lyUNgG-DP"
      },
      "source": [
        "#Entrenamiento del modelo"
      ]
    },
    {
      "cell_type": "code",
      "execution_count": 15,
      "metadata": {
        "id": "9aD3WlZ5HBXo"
      },
      "outputs": [],
      "source": [
        "# Entrenar el modelo XGBoost con los mejores hiperparámetros\n",
        "xgb_model_optimized = xgb.XGBClassifier(**best_params_xgb)\n",
        "xgb_model_optimized.fit(X_train, y_train)\n",
        "\n",
        "# Predecir en el conjunto de prueba\n",
        "y_pred_xgb_optimized = xgb_model_optimized.predict(X_test)\n",
        "\n",
        "# Evaluar el rendimiento del modelo optimizado\n",
        "from sklearn.metrics import classification_report"
      ]
    },
    {
      "cell_type": "code",
      "execution_count": 16,
      "metadata": {
        "colab": {
          "base_uri": "https://localhost:8080/"
        },
        "id": "a5_FgkOMSfNq",
        "outputId": "771c1a68-bf34-4619-a8d2-928cc360cc6d"
      },
      "outputs": [
        {
          "name": "stdout",
          "output_type": "stream",
          "text": [
            "Importancia de las características:\n",
            "                           Feature  Importance\n",
            "0                              age    0.263381\n",
            "17     smoking_status_never smoked    0.087813\n",
            "1                     hypertension    0.085492\n",
            "10               work_type_Private    0.074240\n",
            "13            Residence_type_Rural    0.073076\n",
            "2                    heart_disease    0.069222\n",
            "5                    gender_Female    0.051476\n",
            "11         work_type_Self-employed    0.049839\n",
            "7                  ever_married_No    0.048735\n",
            "18           smoking_status_smokes    0.046902\n",
            "3                avg_glucose_level    0.044981\n",
            "9               work_type_Govt_job    0.038285\n",
            "4                              bmi    0.035474\n",
            "16  smoking_status_formerly smoked    0.031084\n",
            "8                 ever_married_Yes    0.000000\n",
            "6                      gender_Male    0.000000\n",
            "12              work_type_children    0.000000\n",
            "14            Residence_type_Urban    0.000000\n",
            "15          smoking_status_Unknown    0.000000\n"
          ]
        }
      ],
      "source": [
        "# Extraer importancias\n",
        "importances = xgb_model_optimized.feature_importances_\n",
        "\n",
        "# Crear un DataFrame para visualizar las importancias\n",
        "feature_importances = pd.DataFrame({\n",
        "    'Feature': X_train.columns,\n",
        "    'Importance': importances\n",
        "})\n",
        "\n",
        "# Ordenar las características por importancia\n",
        "feature_importances = feature_importances.sort_values(by='Importance', ascending=False)\n",
        "print(\"Importancia de las características:\")\n",
        "print(feature_importances)"
      ]
    },
    {
      "cell_type": "code",
      "execution_count": null,
      "metadata": {
        "id": "gNmA-7gdSwHb"
      },
      "outputs": [],
      "source": []
    },
    {
      "cell_type": "code",
      "execution_count": 24,
      "metadata": {
        "colab": {
          "base_uri": "https://localhost:8080/"
        },
        "id": "-SJUKa22eYWx",
        "outputId": "3bd0f206-c5a3-4a9d-ed90-af4829b1245c"
      },
      "outputs": [
        {
          "name": "stdout",
          "output_type": "stream",
          "text": [
            "\n",
            "XGBoost Classification Report with Adjusted Threshold:\n",
            "              precision    recall  f1-score   support\n",
            "\n",
            "           0       0.97      0.94      0.95       947\n",
            "           1       0.26      0.40      0.32        50\n",
            "\n",
            "    accuracy                           0.91       997\n",
            "   macro avg       0.62      0.67      0.64       997\n",
            "weighted avg       0.93      0.91      0.92       997\n",
            "\n",
            "Accuracy en el conjunto de entrenamiento: 0.95\n",
            "Accuracy en el conjunto de prueba: 0.91\n",
            "Porcentaje de overfitting: 3.85%\n"
          ]
        }
      ],
      "source": [
        "# Seleccionar las 5 características más importantes\n",
        "top_n = 6  # Cambia este valor según lo que desees\n",
        "important_features = feature_importances.head(top_n)['Feature'].tolist()\n",
        "\n",
        "# Filtrar los conjuntos de datos\n",
        "X_train_important = X_train[important_features]\n",
        "X_test_important = X_test[important_features]\n",
        "\n",
        "import numpy as np\n",
        "from sklearn.metrics import classification_report\n",
        "\n",
        "# Entrenar el modelo XGBoost\n",
        "xgb_model_optimized = xgb.XGBClassifier(**best_params_xgb)\n",
        "xgb_model_optimized.fit(X_train_important, y_train)\n",
        "\n",
        "# Obtener las probabilidades de las predicciones\n",
        "y_prob_xgb_optimized = xgb_model_optimized.predict_proba(X_test_important)[:, 1]\n",
        "\n",
        "# Definir un nuevo umbral\n",
        "new_threshold = 0.165  # Ajusta este valor según sea necesario\n",
        "\n",
        "# Clasificar las predicciones basadas en el nuevo umbral\n",
        "y_pred_xgb_adjusted = (y_prob_xgb_optimized >= new_threshold).astype(int)\n",
        "\n",
        "# Evaluar el rendimiento del modelo con el nuevo umbral\n",
        "print(\"\\nXGBoost Classification Report with Adjusted Threshold:\")\n",
        "print(classification_report(y_test, y_pred_xgb_adjusted))\n",
        "\n",
        "from sklearn.metrics import accuracy_score\n",
        "\n",
        "# Predecir en el conjunto de entrenamiento\n",
        "y_pred_train = xgb_model_optimized.predict(X_train_important)\n",
        "\n",
        "# Calcular la precisión en el conjunto de entrenamiento\n",
        "accuracy_train = accuracy_score(y_train, y_pred_train)\n",
        "\n",
        "# Calcular la precisión en el conjunto de prueba con el nuevo umbral\n",
        "accuracy_test = accuracy_score(y_test, y_pred_xgb_adjusted)\n",
        "\n",
        "# Calcular el porcentaje de overfitting\n",
        "overfitting_percentage = (accuracy_train - accuracy_test) / accuracy_train * 100\n",
        "\n",
        "# Imprimir los resultados\n",
        "print(f\"Accuracy en el conjunto de entrenamiento: {accuracy_train:.2f}\")\n",
        "print(f\"Accuracy en el conjunto de prueba: {accuracy_test:.2f}\")\n",
        "print(f\"Porcentaje de overfitting: {overfitting_percentage:.2f}%\")"
      ]
    },
    {
      "cell_type": "markdown",
      "metadata": {
        "id": "G13h4AA9Fk5F"
      },
      "source": [
        "A PARTIR DE AQUÍ SON PRUEBAS :)"
      ]
    },
    {
      "cell_type": "code",
      "execution_count": 25,
      "metadata": {
        "colab": {
          "base_uri": "https://localhost:8080/"
        },
        "id": "ZlLVHnwgMeTQ",
        "outputId": "16ffd693-a497-4c9c-b48f-9c769e9a017c"
      },
      "outputs": [
        {
          "name": "stdout",
          "output_type": "stream",
          "text": [
            "Modelo XGBoost guardado exitosamente en 'xgb_model_optimized.pkl'\n"
          ]
        }
      ],
      "source": [
        "import pickle\n",
        "\n",
        "# Guardar el modelo XGBoost entrenado en un archivo pickle\n",
        "with open('xgb_model_optimized.pkl', 'wb') as file:\n",
        "    pickle.dump(xgb_model_optimized, file)\n",
        "\n",
        "print(\"Modelo XGBoost guardado exitosamente en 'xgb_model_optimized.pkl'\")\n"
      ]
    },
    {
      "cell_type": "code",
      "execution_count": 26,
      "metadata": {
        "colab": {
          "base_uri": "https://localhost:8080/"
        },
        "id": "H8fP9MZvLz21",
        "outputId": "c28ca8a5-39fa-43ee-a422-d5561f783a2e"
      },
      "outputs": [
        {
          "name": "stdout",
          "output_type": "stream",
          "text": [
            "Accuracy del modelo cargado: 0.9137\n",
            "\n",
            "Classification Report del modelo cargado:\n",
            "              precision    recall  f1-score   support\n",
            "\n",
            "           0       0.97      0.94      0.95       947\n",
            "           1       0.26      0.40      0.32        50\n",
            "\n",
            "    accuracy                           0.91       997\n",
            "   macro avg       0.62      0.67      0.64       997\n",
            "weighted avg       0.93      0.91      0.92       997\n",
            "\n",
            "Porcentaje de overfitting: 3.85%\n"
          ]
        }
      ],
      "source": [
        "import pickle\n",
        "from sklearn.metrics import classification_report, accuracy_score\n",
        "\n",
        "# Cargar el modelo desde el archivo pickle\n",
        "with open('xgb_model_optimized.pkl', 'rb') as file:\n",
        "    loaded_model = pickle.load(file)\n",
        "\n",
        "# Obtener las probabilidades de las predicciones\n",
        "y_prob_xgb = loaded_model.predict_proba(X_test_important)[:, 1]\n",
        "\n",
        "# Definir un nuevo umbral\n",
        "new_threshold = 0.165  # Ajusta este valor según sea necesario\n",
        "\n",
        "# Clasificar las predicciones basadas en el nuevo umbral\n",
        "y_pred_loaded_model = (y_prob_xgb >= new_threshold).astype(int)\n",
        "\n",
        "# Evaluar el rendimiento del modelo cargado\n",
        "accuracy = accuracy_score(y_test, y_pred_loaded_model)\n",
        "print(f\"Accuracy del modelo cargado: {accuracy:.4f}\")\n",
        "\n",
        "# Imprimir el informe de clasificación\n",
        "print(\"\\nClassification Report del modelo cargado:\")\n",
        "print(classification_report(y_test, y_pred_loaded_model))\n",
        "\n",
        "\n",
        "# Calcular el porcentaje de overfitting\n",
        "overfitting_percentage = (accuracy_train - accuracy_test) / accuracy_train * 100\n",
        "print (f\"Porcentaje de overfitting: {overfitting_percentage:.2f}%\")"
      ]
    },
    {
      "cell_type": "code",
      "execution_count": 21,
      "metadata": {
        "colab": {
          "base_uri": "https://localhost:8080/"
        },
        "id": "CFFg4KSGhb3s",
        "outputId": "827f38c6-8f4c-4d9e-bffb-ea7d51b72ba9"
      },
      "outputs": [
        {
          "name": "stdout",
          "output_type": "stream",
          "text": [
            "Requirement already satisfied: tensorflow in /usr/local/lib/python3.10/dist-packages (2.17.0)\n",
            "Requirement already satisfied: absl-py>=1.0.0 in /usr/local/lib/python3.10/dist-packages (from tensorflow) (1.4.0)\n",
            "Requirement already satisfied: astunparse>=1.6.0 in /usr/local/lib/python3.10/dist-packages (from tensorflow) (1.6.3)\n",
            "Requirement already satisfied: flatbuffers>=24.3.25 in /usr/local/lib/python3.10/dist-packages (from tensorflow) (24.3.25)\n",
            "Requirement already satisfied: gast!=0.5.0,!=0.5.1,!=0.5.2,>=0.2.1 in /usr/local/lib/python3.10/dist-packages (from tensorflow) (0.6.0)\n",
            "Requirement already satisfied: google-pasta>=0.1.1 in /usr/local/lib/python3.10/dist-packages (from tensorflow) (0.2.0)\n",
            "Requirement already satisfied: h5py>=3.10.0 in /usr/local/lib/python3.10/dist-packages (from tensorflow) (3.11.0)\n",
            "Requirement already satisfied: libclang>=13.0.0 in /usr/local/lib/python3.10/dist-packages (from tensorflow) (18.1.1)\n",
            "Requirement already satisfied: ml-dtypes<0.5.0,>=0.3.1 in /usr/local/lib/python3.10/dist-packages (from tensorflow) (0.4.1)\n",
            "Requirement already satisfied: opt-einsum>=2.3.2 in /usr/local/lib/python3.10/dist-packages (from tensorflow) (3.4.0)\n",
            "Requirement already satisfied: packaging in /usr/local/lib/python3.10/dist-packages (from tensorflow) (24.1)\n",
            "Requirement already satisfied: protobuf!=4.21.0,!=4.21.1,!=4.21.2,!=4.21.3,!=4.21.4,!=4.21.5,<5.0.0dev,>=3.20.3 in /usr/local/lib/python3.10/dist-packages (from tensorflow) (3.20.3)\n",
            "Requirement already satisfied: requests<3,>=2.21.0 in /usr/local/lib/python3.10/dist-packages (from tensorflow) (2.32.3)\n",
            "Requirement already satisfied: setuptools in /usr/local/lib/python3.10/dist-packages (from tensorflow) (71.0.4)\n",
            "Requirement already satisfied: six>=1.12.0 in /usr/local/lib/python3.10/dist-packages (from tensorflow) (1.16.0)\n",
            "Requirement already satisfied: termcolor>=1.1.0 in /usr/local/lib/python3.10/dist-packages (from tensorflow) (2.5.0)\n",
            "Requirement already satisfied: typing-extensions>=3.6.6 in /usr/local/lib/python3.10/dist-packages (from tensorflow) (4.12.2)\n",
            "Requirement already satisfied: wrapt>=1.11.0 in /usr/local/lib/python3.10/dist-packages (from tensorflow) (1.16.0)\n",
            "Requirement already satisfied: grpcio<2.0,>=1.24.3 in /usr/local/lib/python3.10/dist-packages (from tensorflow) (1.64.1)\n",
            "Requirement already satisfied: tensorboard<2.18,>=2.17 in /usr/local/lib/python3.10/dist-packages (from tensorflow) (2.17.0)\n",
            "Requirement already satisfied: keras>=3.2.0 in /usr/local/lib/python3.10/dist-packages (from tensorflow) (3.4.1)\n",
            "Requirement already satisfied: tensorflow-io-gcs-filesystem>=0.23.1 in /usr/local/lib/python3.10/dist-packages (from tensorflow) (0.37.1)\n",
            "Requirement already satisfied: numpy<2.0.0,>=1.23.5 in /usr/local/lib/python3.10/dist-packages (from tensorflow) (1.26.4)\n",
            "Requirement already satisfied: wheel<1.0,>=0.23.0 in /usr/local/lib/python3.10/dist-packages (from astunparse>=1.6.0->tensorflow) (0.44.0)\n",
            "Requirement already satisfied: rich in /usr/local/lib/python3.10/dist-packages (from keras>=3.2.0->tensorflow) (13.9.2)\n",
            "Requirement already satisfied: namex in /usr/local/lib/python3.10/dist-packages (from keras>=3.2.0->tensorflow) (0.0.8)\n",
            "Requirement already satisfied: optree in /usr/local/lib/python3.10/dist-packages (from keras>=3.2.0->tensorflow) (0.13.0)\n",
            "Requirement already satisfied: charset-normalizer<4,>=2 in /usr/local/lib/python3.10/dist-packages (from requests<3,>=2.21.0->tensorflow) (3.4.0)\n",
            "Requirement already satisfied: idna<4,>=2.5 in /usr/local/lib/python3.10/dist-packages (from requests<3,>=2.21.0->tensorflow) (3.10)\n",
            "Requirement already satisfied: urllib3<3,>=1.21.1 in /usr/local/lib/python3.10/dist-packages (from requests<3,>=2.21.0->tensorflow) (2.2.3)\n",
            "Requirement already satisfied: certifi>=2017.4.17 in /usr/local/lib/python3.10/dist-packages (from requests<3,>=2.21.0->tensorflow) (2024.8.30)\n",
            "Requirement already satisfied: markdown>=2.6.8 in /usr/local/lib/python3.10/dist-packages (from tensorboard<2.18,>=2.17->tensorflow) (3.7)\n",
            "Requirement already satisfied: tensorboard-data-server<0.8.0,>=0.7.0 in /usr/local/lib/python3.10/dist-packages (from tensorboard<2.18,>=2.17->tensorflow) (0.7.2)\n",
            "Requirement already satisfied: werkzeug>=1.0.1 in /usr/local/lib/python3.10/dist-packages (from tensorboard<2.18,>=2.17->tensorflow) (3.0.4)\n",
            "Requirement already satisfied: MarkupSafe>=2.1.1 in /usr/local/lib/python3.10/dist-packages (from werkzeug>=1.0.1->tensorboard<2.18,>=2.17->tensorflow) (3.0.1)\n",
            "Requirement already satisfied: markdown-it-py>=2.2.0 in /usr/local/lib/python3.10/dist-packages (from rich->keras>=3.2.0->tensorflow) (3.0.0)\n",
            "Requirement already satisfied: pygments<3.0.0,>=2.13.0 in /usr/local/lib/python3.10/dist-packages (from rich->keras>=3.2.0->tensorflow) (2.18.0)\n",
            "Requirement already satisfied: mdurl~=0.1 in /usr/local/lib/python3.10/dist-packages (from markdown-it-py>=2.2.0->rich->keras>=3.2.0->tensorflow) (0.1.2)\n",
            "Collecting tensorflow-gpu\n",
            "  Downloading tensorflow-gpu-2.12.0.tar.gz (2.6 kB)\n",
            "  \u001b[1;31merror\u001b[0m: \u001b[1msubprocess-exited-with-error\u001b[0m\n",
            "  \n",
            "  \u001b[31m×\u001b[0m \u001b[32mpython setup.py egg_info\u001b[0m did not run successfully.\n",
            "  \u001b[31m│\u001b[0m exit code: \u001b[1;36m1\u001b[0m\n",
            "  \u001b[31m╰─>\u001b[0m See above for output.\n",
            "  \n",
            "  \u001b[1;35mnote\u001b[0m: This error originates from a subprocess, and is likely not a problem with pip.\n",
            "  Preparing metadata (setup.py) ... \u001b[?25l\u001b[?25herror\n",
            "\u001b[1;31merror\u001b[0m: \u001b[1mmetadata-generation-failed\u001b[0m\n",
            "\n",
            "\u001b[31m×\u001b[0m Encountered error while generating package metadata.\n",
            "\u001b[31m╰─>\u001b[0m See above for output.\n",
            "\n",
            "\u001b[1;35mnote\u001b[0m: This is an issue with the package mentioned above, not pip.\n",
            "\u001b[1;36mhint\u001b[0m: See above for details.\n"
          ]
        }
      ],
      "source": [
        "!pip install tensorflow\n",
        "!pip install tensorflow-gpu"
      ]
    },
    {
      "cell_type": "code",
      "execution_count": 22,
      "metadata": {
        "colab": {
          "base_uri": "https://localhost:8080/",
          "height": 1000
        },
        "id": "Y5gALAPDfu1p",
        "outputId": "ad70c325-96bf-44ad-d8e2-b42c3ce00a1b"
      },
      "outputs": [
        {
          "name": "stdout",
          "output_type": "stream",
          "text": [
            "Epoch 1/100\n"
          ]
        },
        {
          "name": "stderr",
          "output_type": "stream",
          "text": [
            "/usr/local/lib/python3.10/dist-packages/keras/src/layers/core/dense.py:87: UserWarning: Do not pass an `input_shape`/`input_dim` argument to a layer. When using Sequential models, prefer using an `Input(shape)` object as the first layer in the model instead.\n",
            "  super().__init__(activity_regularizer=activity_regularizer, **kwargs)\n"
          ]
        },
        {
          "name": "stdout",
          "output_type": "stream",
          "text": [
            "\u001b[1m190/190\u001b[0m \u001b[32m━━━━━━━━━━━━━━━━━━━━\u001b[0m\u001b[37m\u001b[0m \u001b[1m6s\u001b[0m 15ms/step - accuracy: 0.6495 - loss: 0.6192 - val_accuracy: 0.7677 - val_loss: 0.6252\n",
            "Epoch 2/100\n",
            "\u001b[1m190/190\u001b[0m \u001b[32m━━━━━━━━━━━━━━━━━━━━\u001b[0m\u001b[37m\u001b[0m \u001b[1m0s\u001b[0m 2ms/step - accuracy: 0.7439 - loss: 0.4802 - val_accuracy: 0.8554 - val_loss: 0.4910\n",
            "Epoch 3/100\n",
            "\u001b[1m190/190\u001b[0m \u001b[32m━━━━━━━━━━━━━━━━━━━━\u001b[0m\u001b[37m\u001b[0m \u001b[1m1s\u001b[0m 2ms/step - accuracy: 0.7869 - loss: 0.4455 - val_accuracy: 0.8561 - val_loss: 0.4664\n",
            "Epoch 4/100\n",
            "\u001b[1m190/190\u001b[0m \u001b[32m━━━━━━━━━━━━━━━━━━━━\u001b[0m\u001b[37m\u001b[0m \u001b[1m0s\u001b[0m 2ms/step - accuracy: 0.7937 - loss: 0.4357 - val_accuracy: 0.8152 - val_loss: 0.5209\n",
            "Epoch 5/100\n",
            "\u001b[1m190/190\u001b[0m \u001b[32m━━━━━━━━━━━━━━━━━━━━\u001b[0m\u001b[37m\u001b[0m \u001b[1m1s\u001b[0m 2ms/step - accuracy: 0.7980 - loss: 0.4167 - val_accuracy: 0.8700 - val_loss: 0.4450\n",
            "Epoch 6/100\n",
            "\u001b[1m190/190\u001b[0m \u001b[32m━━━━━━━━━━━━━━━━━━━━\u001b[0m\u001b[37m\u001b[0m \u001b[1m1s\u001b[0m 2ms/step - accuracy: 0.8073 - loss: 0.4010 - val_accuracy: 0.8634 - val_loss: 0.4452\n",
            "Epoch 7/100\n",
            "\u001b[1m190/190\u001b[0m \u001b[32m━━━━━━━━━━━━━━━━━━━━\u001b[0m\u001b[37m\u001b[0m \u001b[1m1s\u001b[0m 3ms/step - accuracy: 0.8141 - loss: 0.3935 - val_accuracy: 0.8601 - val_loss: 0.4441\n",
            "Epoch 8/100\n",
            "\u001b[1m190/190\u001b[0m \u001b[32m━━━━━━━━━━━━━━━━━━━━\u001b[0m\u001b[37m\u001b[0m \u001b[1m1s\u001b[0m 2ms/step - accuracy: 0.8256 - loss: 0.3805 - val_accuracy: 0.8251 - val_loss: 0.4721\n",
            "Epoch 9/100\n",
            "\u001b[1m190/190\u001b[0m \u001b[32m━━━━━━━━━━━━━━━━━━━━\u001b[0m\u001b[37m\u001b[0m \u001b[1m0s\u001b[0m 2ms/step - accuracy: 0.8154 - loss: 0.3854 - val_accuracy: 0.8865 - val_loss: 0.3913\n",
            "Epoch 10/100\n",
            "\u001b[1m190/190\u001b[0m \u001b[32m━━━━━━━━━━━━━━━━━━━━\u001b[0m\u001b[37m\u001b[0m \u001b[1m1s\u001b[0m 2ms/step - accuracy: 0.8238 - loss: 0.3747 - val_accuracy: 0.9050 - val_loss: 0.3868\n",
            "Epoch 11/100\n",
            "\u001b[1m190/190\u001b[0m \u001b[32m━━━━━━━━━━━━━━━━━━━━\u001b[0m\u001b[37m\u001b[0m \u001b[1m1s\u001b[0m 2ms/step - accuracy: 0.8263 - loss: 0.3668 - val_accuracy: 0.8904 - val_loss: 0.3940\n",
            "Epoch 12/100\n",
            "\u001b[1m190/190\u001b[0m \u001b[32m━━━━━━━━━━━━━━━━━━━━\u001b[0m\u001b[37m\u001b[0m \u001b[1m1s\u001b[0m 2ms/step - accuracy: 0.8373 - loss: 0.3500 - val_accuracy: 0.9129 - val_loss: 0.3508\n",
            "Epoch 13/100\n",
            "\u001b[1m190/190\u001b[0m \u001b[32m━━━━━━━━━━━━━━━━━━━━\u001b[0m\u001b[37m\u001b[0m \u001b[1m0s\u001b[0m 2ms/step - accuracy: 0.8430 - loss: 0.3492 - val_accuracy: 0.9129 - val_loss: 0.3544\n",
            "Epoch 14/100\n",
            "\u001b[1m190/190\u001b[0m \u001b[32m━━━━━━━━━━━━━━━━━━━━\u001b[0m\u001b[37m\u001b[0m \u001b[1m1s\u001b[0m 3ms/step - accuracy: 0.8443 - loss: 0.3495 - val_accuracy: 0.9122 - val_loss: 0.3726\n",
            "Epoch 15/100\n",
            "\u001b[1m190/190\u001b[0m \u001b[32m━━━━━━━━━━━━━━━━━━━━\u001b[0m\u001b[37m\u001b[0m \u001b[1m1s\u001b[0m 2ms/step - accuracy: 0.8401 - loss: 0.3437 - val_accuracy: 0.9307 - val_loss: 0.3146\n",
            "Epoch 16/100\n",
            "\u001b[1m190/190\u001b[0m \u001b[32m━━━━━━━━━━━━━━━━━━━━\u001b[0m\u001b[37m\u001b[0m \u001b[1m1s\u001b[0m 2ms/step - accuracy: 0.8425 - loss: 0.3359 - val_accuracy: 0.9056 - val_loss: 0.3562\n",
            "Epoch 17/100\n",
            "\u001b[1m190/190\u001b[0m \u001b[32m━━━━━━━━━━━━━━━━━━━━\u001b[0m\u001b[37m\u001b[0m \u001b[1m1s\u001b[0m 2ms/step - accuracy: 0.8543 - loss: 0.3305 - val_accuracy: 0.8990 - val_loss: 0.3675\n",
            "Epoch 18/100\n",
            "\u001b[1m190/190\u001b[0m \u001b[32m━━━━━━━━━━━━━━━━━━━━\u001b[0m\u001b[37m\u001b[0m \u001b[1m1s\u001b[0m 2ms/step - accuracy: 0.8562 - loss: 0.3253 - val_accuracy: 0.9208 - val_loss: 0.3132\n",
            "Epoch 19/100\n",
            "\u001b[1m190/190\u001b[0m \u001b[32m━━━━━━━━━━━━━━━━━━━━\u001b[0m\u001b[37m\u001b[0m \u001b[1m1s\u001b[0m 3ms/step - accuracy: 0.8566 - loss: 0.3252 - val_accuracy: 0.9281 - val_loss: 0.3198\n",
            "Epoch 20/100\n",
            "\u001b[1m190/190\u001b[0m \u001b[32m━━━━━━━━━━━━━━━━━━━━\u001b[0m\u001b[37m\u001b[0m \u001b[1m1s\u001b[0m 4ms/step - accuracy: 0.8594 - loss: 0.3195 - val_accuracy: 0.9234 - val_loss: 0.3048\n",
            "Epoch 21/100\n",
            "\u001b[1m190/190\u001b[0m \u001b[32m━━━━━━━━━━━━━━━━━━━━\u001b[0m\u001b[37m\u001b[0m \u001b[1m1s\u001b[0m 3ms/step - accuracy: 0.8591 - loss: 0.3175 - val_accuracy: 0.9353 - val_loss: 0.2612\n",
            "Epoch 22/100\n",
            "\u001b[1m190/190\u001b[0m \u001b[32m━━━━━━━━━━━━━━━━━━━━\u001b[0m\u001b[37m\u001b[0m \u001b[1m1s\u001b[0m 3ms/step - accuracy: 0.8733 - loss: 0.2988 - val_accuracy: 0.9287 - val_loss: 0.2943\n",
            "Epoch 23/100\n",
            "\u001b[1m190/190\u001b[0m \u001b[32m━━━━━━━━━━━━━━━━━━━━\u001b[0m\u001b[37m\u001b[0m \u001b[1m1s\u001b[0m 3ms/step - accuracy: 0.8715 - loss: 0.3050 - val_accuracy: 0.9360 - val_loss: 0.2691\n",
            "Epoch 24/100\n",
            "\u001b[1m190/190\u001b[0m \u001b[32m━━━━━━━━━━━━━━━━━━━━\u001b[0m\u001b[37m\u001b[0m \u001b[1m1s\u001b[0m 4ms/step - accuracy: 0.8624 - loss: 0.3026 - val_accuracy: 0.9459 - val_loss: 0.2555\n",
            "Epoch 25/100\n",
            "\u001b[1m190/190\u001b[0m \u001b[32m━━━━━━━━━━━━━━━━━━━━\u001b[0m\u001b[37m\u001b[0m \u001b[1m1s\u001b[0m 4ms/step - accuracy: 0.8757 - loss: 0.2951 - val_accuracy: 0.9498 - val_loss: 0.2383\n",
            "Epoch 26/100\n",
            "\u001b[1m190/190\u001b[0m \u001b[32m━━━━━━━━━━━━━━━━━━━━\u001b[0m\u001b[37m\u001b[0m \u001b[1m1s\u001b[0m 5ms/step - accuracy: 0.8729 - loss: 0.2855 - val_accuracy: 0.9545 - val_loss: 0.2455\n",
            "Epoch 27/100\n",
            "\u001b[1m190/190\u001b[0m \u001b[32m━━━━━━━━━━━━━━━━━━━━\u001b[0m\u001b[37m\u001b[0m \u001b[1m1s\u001b[0m 4ms/step - accuracy: 0.8731 - loss: 0.2909 - val_accuracy: 0.9413 - val_loss: 0.2644\n",
            "Epoch 28/100\n",
            "\u001b[1m190/190\u001b[0m \u001b[32m━━━━━━━━━━━━━━━━━━━━\u001b[0m\u001b[37m\u001b[0m \u001b[1m2s\u001b[0m 5ms/step - accuracy: 0.8742 - loss: 0.2880 - val_accuracy: 0.9373 - val_loss: 0.2803\n",
            "Epoch 29/100\n",
            "\u001b[1m190/190\u001b[0m \u001b[32m━━━━━━━━━━━━━━━━━━━━\u001b[0m\u001b[37m\u001b[0m \u001b[1m1s\u001b[0m 5ms/step - accuracy: 0.8761 - loss: 0.2837 - val_accuracy: 0.9545 - val_loss: 0.2291\n",
            "Epoch 30/100\n",
            "\u001b[1m190/190\u001b[0m \u001b[32m━━━━━━━━━━━━━━━━━━━━\u001b[0m\u001b[37m\u001b[0m \u001b[1m1s\u001b[0m 4ms/step - accuracy: 0.8791 - loss: 0.2889 - val_accuracy: 0.9578 - val_loss: 0.2272\n",
            "Epoch 31/100\n",
            "\u001b[1m190/190\u001b[0m \u001b[32m━━━━━━━━━━━━━━━━━━━━\u001b[0m\u001b[37m\u001b[0m \u001b[1m1s\u001b[0m 6ms/step - accuracy: 0.8863 - loss: 0.2636 - val_accuracy: 0.9531 - val_loss: 0.2305\n",
            "Epoch 32/100\n",
            "\u001b[1m190/190\u001b[0m \u001b[32m━━━━━━━━━━━━━━━━━━━━\u001b[0m\u001b[37m\u001b[0m \u001b[1m1s\u001b[0m 7ms/step - accuracy: 0.8842 - loss: 0.2697 - val_accuracy: 0.9630 - val_loss: 0.2222\n",
            "Epoch 33/100\n",
            "\u001b[1m190/190\u001b[0m \u001b[32m━━━━━━━━━━━━━━━━━━━━\u001b[0m\u001b[37m\u001b[0m \u001b[1m2s\u001b[0m 8ms/step - accuracy: 0.8830 - loss: 0.2751 - val_accuracy: 0.9591 - val_loss: 0.2346\n",
            "Epoch 34/100\n",
            "\u001b[1m190/190\u001b[0m \u001b[32m━━━━━━━━━━━━━━━━━━━━\u001b[0m\u001b[37m\u001b[0m \u001b[1m2s\u001b[0m 4ms/step - accuracy: 0.8882 - loss: 0.2588 - val_accuracy: 0.9723 - val_loss: 0.1882\n",
            "Epoch 35/100\n",
            "\u001b[1m190/190\u001b[0m \u001b[32m━━━━━━━━━━━━━━━━━━━━\u001b[0m\u001b[37m\u001b[0m \u001b[1m1s\u001b[0m 5ms/step - accuracy: 0.8833 - loss: 0.2642 - val_accuracy: 0.9762 - val_loss: 0.1884\n",
            "Epoch 36/100\n",
            "\u001b[1m190/190\u001b[0m \u001b[32m━━━━━━━━━━━━━━━━━━━━\u001b[0m\u001b[37m\u001b[0m \u001b[1m1s\u001b[0m 4ms/step - accuracy: 0.8826 - loss: 0.2721 - val_accuracy: 0.9789 - val_loss: 0.1756\n",
            "Epoch 37/100\n",
            "\u001b[1m190/190\u001b[0m \u001b[32m━━━━━━━━━━━━━━━━━━━━\u001b[0m\u001b[37m\u001b[0m \u001b[1m1s\u001b[0m 2ms/step - accuracy: 0.8883 - loss: 0.2586 - val_accuracy: 0.9657 - val_loss: 0.2209\n",
            "Epoch 38/100\n",
            "\u001b[1m190/190\u001b[0m \u001b[32m━━━━━━━━━━━━━━━━━━━━\u001b[0m\u001b[37m\u001b[0m \u001b[1m1s\u001b[0m 2ms/step - accuracy: 0.8896 - loss: 0.2594 - val_accuracy: 0.9677 - val_loss: 0.2083\n",
            "Epoch 39/100\n",
            "\u001b[1m190/190\u001b[0m \u001b[32m━━━━━━━━━━━━━━━━━━━━\u001b[0m\u001b[37m\u001b[0m \u001b[1m1s\u001b[0m 2ms/step - accuracy: 0.8914 - loss: 0.2464 - val_accuracy: 0.9597 - val_loss: 0.2169\n",
            "Epoch 40/100\n",
            "\u001b[1m190/190\u001b[0m \u001b[32m━━━━━━━━━━━━━━━━━━━━\u001b[0m\u001b[37m\u001b[0m \u001b[1m1s\u001b[0m 2ms/step - accuracy: 0.8952 - loss: 0.2517 - val_accuracy: 0.9743 - val_loss: 0.1986\n",
            "Epoch 41/100\n",
            "\u001b[1m190/190\u001b[0m \u001b[32m━━━━━━━━━━━━━━━━━━━━\u001b[0m\u001b[37m\u001b[0m \u001b[1m1s\u001b[0m 2ms/step - accuracy: 0.9038 - loss: 0.2406 - val_accuracy: 0.9617 - val_loss: 0.2223\n",
            "Epoch 42/100\n",
            "\u001b[1m190/190\u001b[0m \u001b[32m━━━━━━━━━━━━━━━━━━━━\u001b[0m\u001b[37m\u001b[0m \u001b[1m0s\u001b[0m 2ms/step - accuracy: 0.8916 - loss: 0.2505 - val_accuracy: 0.9670 - val_loss: 0.2245\n",
            "Epoch 43/100\n",
            "\u001b[1m190/190\u001b[0m \u001b[32m━━━━━━━━━━━━━━━━━━━━\u001b[0m\u001b[37m\u001b[0m \u001b[1m0s\u001b[0m 2ms/step - accuracy: 0.8971 - loss: 0.2374 - val_accuracy: 0.9545 - val_loss: 0.2227\n",
            "Epoch 44/100\n",
            "\u001b[1m190/190\u001b[0m \u001b[32m━━━━━━━━━━━━━━━━━━━━\u001b[0m\u001b[37m\u001b[0m \u001b[1m1s\u001b[0m 2ms/step - accuracy: 0.8979 - loss: 0.2468 - val_accuracy: 0.9828 - val_loss: 0.1639\n",
            "Epoch 45/100\n",
            "\u001b[1m190/190\u001b[0m \u001b[32m━━━━━━━━━━━━━━━━━━━━\u001b[0m\u001b[37m\u001b[0m \u001b[1m1s\u001b[0m 2ms/step - accuracy: 0.8894 - loss: 0.2497 - val_accuracy: 0.9782 - val_loss: 0.1865\n",
            "Epoch 46/100\n",
            "\u001b[1m190/190\u001b[0m \u001b[32m━━━━━━━━━━━━━━━━━━━━\u001b[0m\u001b[37m\u001b[0m \u001b[1m0s\u001b[0m 2ms/step - accuracy: 0.8992 - loss: 0.2407 - val_accuracy: 0.9802 - val_loss: 0.1856\n",
            "Epoch 47/100\n",
            "\u001b[1m190/190\u001b[0m \u001b[32m━━━━━━━━━━━━━━━━━━━━\u001b[0m\u001b[37m\u001b[0m \u001b[1m1s\u001b[0m 3ms/step - accuracy: 0.8917 - loss: 0.2510 - val_accuracy: 0.9795 - val_loss: 0.1727\n",
            "Epoch 48/100\n",
            "\u001b[1m190/190\u001b[0m \u001b[32m━━━━━━━━━━━━━━━━━━━━\u001b[0m\u001b[37m\u001b[0m \u001b[1m1s\u001b[0m 4ms/step - accuracy: 0.9012 - loss: 0.2295 - val_accuracy: 0.9822 - val_loss: 0.1546\n",
            "Epoch 49/100\n",
            "\u001b[1m190/190\u001b[0m \u001b[32m━━━━━━━━━━━━━━━━━━━━\u001b[0m\u001b[37m\u001b[0m \u001b[1m1s\u001b[0m 3ms/step - accuracy: 0.8915 - loss: 0.2377 - val_accuracy: 0.9762 - val_loss: 0.1831\n",
            "Epoch 50/100\n",
            "\u001b[1m190/190\u001b[0m \u001b[32m━━━━━━━━━━━━━━━━━━━━\u001b[0m\u001b[37m\u001b[0m \u001b[1m0s\u001b[0m 2ms/step - accuracy: 0.9029 - loss: 0.2350 - val_accuracy: 0.9769 - val_loss: 0.1797\n",
            "Epoch 51/100\n",
            "\u001b[1m190/190\u001b[0m \u001b[32m━━━━━━━━━━━━━━━━━━━━\u001b[0m\u001b[37m\u001b[0m \u001b[1m0s\u001b[0m 2ms/step - accuracy: 0.9120 - loss: 0.2163 - val_accuracy: 0.9743 - val_loss: 0.1925\n",
            "Epoch 52/100\n",
            "\u001b[1m190/190\u001b[0m \u001b[32m━━━━━━━━━━━━━━━━━━━━\u001b[0m\u001b[37m\u001b[0m \u001b[1m1s\u001b[0m 2ms/step - accuracy: 0.9044 - loss: 0.2252 - val_accuracy: 0.9769 - val_loss: 0.1760\n",
            "Epoch 53/100\n",
            "\u001b[1m190/190\u001b[0m \u001b[32m━━━━━━━━━━━━━━━━━━━━\u001b[0m\u001b[37m\u001b[0m \u001b[1m1s\u001b[0m 2ms/step - accuracy: 0.8975 - loss: 0.2368 - val_accuracy: 0.9802 - val_loss: 0.1645\n",
            "Epoch 54/100\n",
            "\u001b[1m190/190\u001b[0m \u001b[32m━━━━━━━━━━━━━━━━━━━━\u001b[0m\u001b[37m\u001b[0m \u001b[1m1s\u001b[0m 3ms/step - accuracy: 0.9087 - loss: 0.2216 - val_accuracy: 0.9723 - val_loss: 0.1800\n",
            "Epoch 55/100\n",
            "\u001b[1m190/190\u001b[0m \u001b[32m━━━━━━━━━━━━━━━━━━━━\u001b[0m\u001b[37m\u001b[0m \u001b[1m1s\u001b[0m 3ms/step - accuracy: 0.9070 - loss: 0.2154 - val_accuracy: 0.9835 - val_loss: 0.1558\n",
            "Epoch 56/100\n",
            "\u001b[1m190/190\u001b[0m \u001b[32m━━━━━━━━━━━━━━━━━━━━\u001b[0m\u001b[37m\u001b[0m \u001b[1m0s\u001b[0m 2ms/step - accuracy: 0.9058 - loss: 0.2239 - val_accuracy: 0.9782 - val_loss: 0.1732\n",
            "Epoch 57/100\n",
            "\u001b[1m190/190\u001b[0m \u001b[32m━━━━━━━━━━━━━━━━━━━━\u001b[0m\u001b[37m\u001b[0m \u001b[1m1s\u001b[0m 2ms/step - accuracy: 0.9117 - loss: 0.2162 - val_accuracy: 0.9842 - val_loss: 0.1362\n",
            "Epoch 58/100\n",
            "\u001b[1m190/190\u001b[0m \u001b[32m━━━━━━━━━━━━━━━━━━━━\u001b[0m\u001b[37m\u001b[0m \u001b[1m0s\u001b[0m 2ms/step - accuracy: 0.9115 - loss: 0.2193 - val_accuracy: 0.9828 - val_loss: 0.1429\n",
            "Epoch 59/100\n",
            "\u001b[1m190/190\u001b[0m \u001b[32m━━━━━━━━━━━━━━━━━━━━\u001b[0m\u001b[37m\u001b[0m \u001b[1m0s\u001b[0m 2ms/step - accuracy: 0.9090 - loss: 0.2214 - val_accuracy: 0.9809 - val_loss: 0.1686\n",
            "Epoch 60/100\n",
            "\u001b[1m190/190\u001b[0m \u001b[32m━━━━━━━━━━━━━━━━━━━━\u001b[0m\u001b[37m\u001b[0m \u001b[1m1s\u001b[0m 2ms/step - accuracy: 0.9057 - loss: 0.2190 - val_accuracy: 0.9822 - val_loss: 0.1502\n",
            "Epoch 61/100\n",
            "\u001b[1m190/190\u001b[0m \u001b[32m━━━━━━━━━━━━━━━━━━━━\u001b[0m\u001b[37m\u001b[0m \u001b[1m1s\u001b[0m 3ms/step - accuracy: 0.9121 - loss: 0.2131 - val_accuracy: 0.9861 - val_loss: 0.1528\n",
            "Epoch 62/100\n",
            "\u001b[1m190/190\u001b[0m \u001b[32m━━━━━━━━━━━━━━━━━━━━\u001b[0m\u001b[37m\u001b[0m \u001b[1m1s\u001b[0m 3ms/step - accuracy: 0.9149 - loss: 0.2164 - val_accuracy: 0.9855 - val_loss: 0.1445\n",
            "Epoch 63/100\n",
            "\u001b[1m190/190\u001b[0m \u001b[32m━━━━━━━━━━━━━━━━━━━━\u001b[0m\u001b[37m\u001b[0m \u001b[1m0s\u001b[0m 2ms/step - accuracy: 0.9124 - loss: 0.2151 - val_accuracy: 0.9848 - val_loss: 0.1379\n",
            "Epoch 64/100\n",
            "\u001b[1m190/190\u001b[0m \u001b[32m━━━━━━━━━━━━━━━━━━━━\u001b[0m\u001b[37m\u001b[0m \u001b[1m1s\u001b[0m 3ms/step - accuracy: 0.9109 - loss: 0.2199 - val_accuracy: 0.9861 - val_loss: 0.1392\n",
            "Epoch 65/100\n",
            "\u001b[1m190/190\u001b[0m \u001b[32m━━━━━━━━━━━━━━━━━━━━\u001b[0m\u001b[37m\u001b[0m \u001b[1m1s\u001b[0m 2ms/step - accuracy: 0.9113 - loss: 0.2078 - val_accuracy: 0.9835 - val_loss: 0.1433\n",
            "Epoch 66/100\n",
            "\u001b[1m190/190\u001b[0m \u001b[32m━━━━━━━━━━━━━━━━━━━━\u001b[0m\u001b[37m\u001b[0m \u001b[1m0s\u001b[0m 2ms/step - accuracy: 0.9145 - loss: 0.2134 - val_accuracy: 0.9842 - val_loss: 0.1457\n",
            "Epoch 67/100\n",
            "\u001b[1m190/190\u001b[0m \u001b[32m━━━━━━━━━━━━━━━━━━━━\u001b[0m\u001b[37m\u001b[0m \u001b[1m1s\u001b[0m 3ms/step - accuracy: 0.9194 - loss: 0.1991 - val_accuracy: 0.9875 - val_loss: 0.1467\n",
            "\u001b[1m32/32\u001b[0m \u001b[32m━━━━━━━━━━━━━━━━━━━━\u001b[0m\u001b[37m\u001b[0m \u001b[1m0s\u001b[0m 7ms/step\n",
            "Informe de clasificación:\n",
            "              precision    recall  f1-score   support\n",
            "\n",
            "           0       0.96      0.86      0.91       947\n",
            "           1       0.10      0.28      0.14        50\n",
            "\n",
            "    accuracy                           0.83       997\n",
            "   macro avg       0.53      0.57      0.53       997\n",
            "weighted avg       0.91      0.83      0.87       997\n",
            "\n",
            "\n",
            "Matriz de confusión:\n",
            "[[817 130]\n",
            " [ 36  14]]\n",
            "\n",
            "ROC AUC: 0.714\n"
          ]
        },
        {
          "data": {
            "image/png": "[encoded data removed]",
            "text/plain": [
              "<Figure size 1200x400 with 2 Axes>"
            ]
          },
          "metadata": {},
          "output_type": "display_data"
        }
      ],
      "source": [
        "import pandas as pd\n",
        "import numpy as np\n",
        "from sklearn.model_selection import train_test_split\n",
        "from sklearn.preprocessing import StandardScaler\n",
        "from sklearn.metrics import classification_report, confusion_matrix, roc_auc_score\n",
        "from tensorflow.keras.models import Sequential\n",
        "from tensorflow.keras.layers import Dense, Dropout\n",
        "from tensorflow.keras.optimizers import Adam\n",
        "from tensorflow.keras.callbacks import EarlyStopping\n",
        "from imblearn.over_sampling import SMOTE\n",
        "\n",
        "# Cargar los datos\n",
        "df = pd.read_csv('stroke_dataset.csv')\n",
        "\n",
        "# Ingeniería de características (basada en tu código anterior)\n",
        "df['age_glucose_risk'] = df['age'] * df['avg_glucose_level'] / 100\n",
        "df['bmi_age_risk'] = df['bmi'] * df['age'] / 100\n",
        "df['combined_health_risk'] = df['hypertension'] + df['heart_disease'] + (df['bmi'] > 30).astype(int) + (df['age'] > 60).astype(int) + (df['avg_glucose_level'] > 200).astype(int)\n",
        "\n",
        "# Codificación one-hot para variables categóricas\n",
        "df = pd.get_dummies(df, columns=['gender', 'ever_married', 'work_type', 'Residence_type', 'smoking_status'])\n",
        "\n",
        "# Selección de características\n",
        "features = ['age', 'hypertension', 'heart_disease', 'avg_glucose_level', 'bmi',\n",
        "            'age_glucose_risk', 'bmi_age_risk', 'combined_health_risk'] + \\\n",
        "           [col for col in df.columns if col.startswith(('gender_', 'ever_married_', 'work_type_', 'Residence_type_', 'smoking_status_'))]\n",
        "\n",
        "X = df[features]\n",
        "y = df['stroke']\n",
        "\n",
        "# División de los datos\n",
        "X_train, X_test, y_train, y_test = train_test_split(X, y, test_size=0.2, random_state=42, stratify=y)\n",
        "\n",
        "# Escalado de características\n",
        "scaler = StandardScaler()\n",
        "X_train_scaled = scaler.fit_transform(X_train)\n",
        "X_test_scaled = scaler.transform(X_test)\n",
        "\n",
        "# Aplicar SMOTE para manejar el desbalanceo de clases\n",
        "smote = SMOTE(random_state=42)\n",
        "X_train_resampled, y_train_resampled = smote.fit_resample(X_train_scaled, y_train)\n",
        "\n",
        "# Crear el modelo de red neuronal\n",
        "model = Sequential([\n",
        "    Dense(64, activation='relu', input_shape=(X_train_resampled.shape[1],)),\n",
        "    Dropout(0.3),\n",
        "    Dense(32, activation='relu'),\n",
        "    Dropout(0.3),\n",
        "    Dense(16, activation='relu'),\n",
        "    Dense(1, activation='sigmoid')\n",
        "])\n",
        "\n",
        "# Compilar el modelo\n",
        "model.compile(optimizer=Adam(learning_rate=0.001), loss='binary_crossentropy', metrics=['accuracy'])\n",
        "\n",
        "# Definir early stopping\n",
        "early_stopping = EarlyStopping(monitor='val_loss', patience=10, restore_best_weights=True)\n",
        "\n",
        "# Entrenar el modelo\n",
        "history = model.fit(\n",
        "    X_train_resampled, y_train_resampled,\n",
        "    epochs=100,\n",
        "    batch_size=32,\n",
        "    validation_split=0.2,\n",
        "    callbacks=[early_stopping],\n",
        "    verbose=1\n",
        ")\n",
        "\n",
        "# Evaluar el modelo\n",
        "y_pred_proba = model.predict(X_test_scaled)\n",
        "y_pred = (y_pred_proba > 0.5).astype(int)\n",
        "\n",
        "print(\"Informe de clasificación:\")\n",
        "print(classification_report(y_test, y_pred))\n",
        "print(\"\\nMatriz de confusión:\")\n",
        "print(confusion_matrix(y_test, y_pred))\n",
        "print(f\"\\nROC AUC: {roc_auc_score(y_test, y_pred_proba):.3f}\")\n",
        "\n",
        "# Visualizar la curva de aprendizaje\n",
        "import matplotlib.pyplot as plt\n",
        "\n",
        "plt.figure(figsize=(12, 4))\n",
        "plt.subplot(1, 2, 1)\n",
        "plt.plot(history.history['loss'], label='Training Loss')\n",
        "plt.plot(history.history['val_loss'], label='Validation Loss')\n",
        "plt.title('Model Loss')\n",
        "plt.xlabel('Epoch')\n",
        "plt.ylabel('Loss')\n",
        "plt.legend()\n",
        "\n",
        "plt.subplot(1, 2, 2)\n",
        "plt.plot(history.history['accuracy'], label='Training Accuracy')\n",
        "plt.plot(history.history['val_accuracy'], label='Validation Accuracy')\n",
        "plt.title('Model Accuracy')\n",
        "plt.xlabel('Epoch')\n",
        "plt.ylabel('Accuracy')\n",
        "plt.legend()\n",
        "\n",
        "plt.tight_layout()\n",
        "plt.show()"
      ]
    }
  ],
  "metadata": {
    "accelerator": "GPU",
    "colab": {
      "gpuType": "T4",
      "provenance": []
    },
    "kernelspec": {
      "display_name": "Python 3",
      "name": "python3"
    },
    "language_info": {
      "codemirror_mode": {
        "name": "ipython",
        "version": 3
      },
      "file_extension": ".py",
      "mimetype": "text/x-python",
      "name": "python",
      "nbconvert_exporter": "python",
      "pygments_lexer": "ipython3",
      "version": "3.12.3"
    }
  },
  "nbformat": 4,
  "nbformat_minor": 0
}
